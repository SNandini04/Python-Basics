{
 "cells": [
  {
   "cell_type": "markdown",
   "id": "748aae7a",
   "metadata": {},
   "source": [
    "#### 1.\tWrite a Python program to find sum of elements in list?\n",
    "#### 2.\tWrite a Python program to  Multiply all numbers in the list?\n",
    "#### 3.\tWrite a Python program to find smallest number in a list?\n",
    "#### 4.\tWrite a Python program to find largest number in a list?\n",
    "#### 5.\tWrite a Python program to find second largest number in a list?\n",
    "#### 6.\tWrite a Python program to find N largest elements from a list?\n",
    "#### 7.\tWrite a Python program to print even numbers in a list?\n",
    "#### 8.\tWrite a Python program to print odd numbers in a List?\n",
    "#### 9.\tWrite a Python program to Remove empty List from List?\n",
    "#### 10.\tWrite a Python program to Cloning or Copying a list?\n",
    "#### 11.\tWrite a Python program to Count occurrences of an element in a list?\n"
   ]
  },
  {
   "cell_type": "code",
   "execution_count": 2,
   "id": "2acc5a75",
   "metadata": {},
   "outputs": [
    {
     "name": "stdout",
     "output_type": "stream",
     "text": [
      "21\n",
      "16\n"
     ]
    }
   ],
   "source": [
    "def add(l):\n",
    "    f = 0\n",
    "    for i in l:\n",
    "        f += i\n",
    "    print(f)\n",
    "add(l = [1,2,3,4,5,6])\n",
    "add(l = [5,5,2,2,1,1])"
   ]
  },
  {
   "cell_type": "code",
   "execution_count": 10,
   "id": "2c26c99d",
   "metadata": {},
   "outputs": [
    {
     "name": "stdout",
     "output_type": "stream",
     "text": [
      "24\n",
      "128\n"
     ]
    }
   ],
   "source": [
    "def multiply(nums):\n",
    "    n = 1\n",
    "    for i in nums:\n",
    "        n *=i\n",
    "    print(n)\n",
    "multiply([1,2,3,4])\n",
    "multiply([2**3,4**2])"
   ]
  },
  {
   "cell_type": "code",
   "execution_count": 17,
   "id": "8e98e955",
   "metadata": {},
   "outputs": [
    {
     "name": "stdout",
     "output_type": "stream",
     "text": [
      "11\n",
      "1\n"
     ]
    }
   ],
   "source": [
    "def smallest(num):\n",
    "    small_num = num[0]\n",
    "    for i in num:\n",
    "        if i < small_num:\n",
    "            small_num = i\n",
    "    print(small_num)\n",
    "\n",
    "smallest([12,18,34,112,11])\n",
    "smallest([1,2,3,4])"
   ]
  },
  {
   "cell_type": "code",
   "execution_count": 36,
   "id": "07201a2f",
   "metadata": {},
   "outputs": [
    {
     "data": {
      "text/plain": [
       "60"
      ]
     },
     "execution_count": 36,
     "metadata": {},
     "output_type": "execute_result"
    }
   ],
   "source": [
    "def largest(num):\n",
    "    large = num[0]\n",
    "    for i in num:\n",
    "        if i>large:\n",
    "            large = i\n",
    "    return large\n",
    "\n",
    "n = [2,3,60,8,1]\n",
    "largest(n)"
   ]
  },
  {
   "cell_type": "code",
   "execution_count": 60,
   "id": "bcd0e9ff",
   "metadata": {},
   "outputs": [
    {
     "data": {
      "text/plain": [
       "40"
      ]
     },
     "execution_count": 60,
     "metadata": {},
     "output_type": "execute_result"
    }
   ],
   "source": [
    "def secondlarge(num):\n",
    "    for i in num:\n",
    "         sec_large=sorted(num,reverse=True)[1]\n",
    "    return sec_large\n",
    "        \n",
    "secondlarge([10,20,60,40])"
   ]
  },
  {
   "cell_type": "code",
   "execution_count": 68,
   "id": "6dafbabd",
   "metadata": {},
   "outputs": [],
   "source": [
    "def nlargest(n):\n",
    "    num = int(input('Enter total numbers:'))\n",
    "    num_list = []\n",
    "    for i in range(num):\n",
    "        num_list.append(int(input('enter a number:')))\n",
    "    print(f'{n} largest elements in {num_list} is {sorted(num_list,reverse=True)[0:n]}')"
   ]
  },
  {
   "cell_type": "code",
   "execution_count": 69,
   "id": "ac1a0354",
   "metadata": {},
   "outputs": [
    {
     "name": "stdout",
     "output_type": "stream",
     "text": [
      "Enter total numbers:5\n",
      "enter a number:12\n",
      "enter a number:57\n",
      "enter a number:87\n",
      "enter a number:1\n",
      "enter a number:23\n",
      "3 largest elements in [12, 57, 87, 1, 23] is [87, 57, 23]\n"
     ]
    }
   ],
   "source": [
    "nlargest(3)"
   ]
  },
  {
   "cell_type": "code",
   "execution_count": 82,
   "id": "9d27f34e",
   "metadata": {},
   "outputs": [],
   "source": [
    "def even_num():\n",
    "    num = int(input(\"Enter total numbers:\"))\n",
    "    num_list=[]\n",
    "    even_num=[]\n",
    "    for x in range(num):\n",
    "        num_list.append(int(input('enter a number:')))\n",
    "    for n in num_list:\n",
    "        if n%2==0:\n",
    "            even_num.append(n)\n",
    "    print(f'Even Elements in {num_list} is {even_num}')\n",
    "    "
   ]
  },
  {
   "cell_type": "code",
   "execution_count": 84,
   "id": "cc5fc5a1",
   "metadata": {},
   "outputs": [
    {
     "name": "stdout",
     "output_type": "stream",
     "text": [
      "Enter total numbers:4\n",
      "enter a number:1\n",
      "enter a number:2\n",
      "enter a number:3\n",
      "enter a number:4\n",
      "Even Elements in [1, 2, 3, 4] is [2, 4]\n"
     ]
    }
   ],
   "source": [
    "even_num()"
   ]
  },
  {
   "cell_type": "code",
   "execution_count": 88,
   "id": "e4b3509e",
   "metadata": {},
   "outputs": [],
   "source": [
    "def odd_num():\n",
    "    num = int(input(\"Enter total numbers:\"))\n",
    "    num_list=[]\n",
    "    odd_num=[]\n",
    "    for x in range(num):\n",
    "        num_list.append(int(input('enter a number:')))\n",
    "    for n in num_list:\n",
    "        if n%2==1:\n",
    "            odd_num.append(n)\n",
    "    print(f'Odd Elements in {num_list} is {odd_num}')"
   ]
  },
  {
   "cell_type": "code",
   "execution_count": 89,
   "id": "5e833e71",
   "metadata": {},
   "outputs": [
    {
     "name": "stdout",
     "output_type": "stream",
     "text": [
      "Enter total numbers:5\n",
      "enter a number:1\n",
      "enter a number:2\n",
      "enter a number:3\n",
      "enter a number:4\n",
      "enter a number:5\n",
      "Odd Elements in [1, 2, 3, 4, 5] is [1, 3, 5]\n"
     ]
    }
   ],
   "source": [
    "odd_num()"
   ]
  },
  {
   "cell_type": "code",
   "execution_count": 110,
   "id": "2ef4c7aa",
   "metadata": {},
   "outputs": [],
   "source": [
    "def remove_empty_list(num):\n",
    "    if [] in num:\n",
    "        print('The list:',num)\n",
    "        print(f'Empty list is present in {num} at index number {num.index([])}')\n",
    "        num.remove([])\n",
    "        print(f'List after removing [] : {num}')"
   ]
  },
  {
   "cell_type": "code",
   "execution_count": 111,
   "id": "9f6496e0",
   "metadata": {},
   "outputs": [
    {
     "name": "stdout",
     "output_type": "stream",
     "text": [
      "The list: [1, 2, 3, 4, 5, [], 7]\n",
      "Empty list is present in [1, 2, 3, 4, 5, [], 7] at index number 5\n",
      "List after removing [] : [1, 2, 3, 4, 5, 7]\n"
     ]
    }
   ],
   "source": [
    "remove_empty_list([1,2,3,4,5,[],7])"
   ]
  },
  {
   "cell_type": "code",
   "execution_count": 122,
   "id": "4908ce38",
   "metadata": {},
   "outputs": [],
   "source": [
    "def copy_list():\n",
    "    num_list = eval(input(\"Enter List: \"))\n",
    "    print(num_list,id(num_list))\n",
    "    copy_list = num_list.copy()\n",
    "    print(copy_list,id(copy_list))"
   ]
  },
  {
   "cell_type": "code",
   "execution_count": 123,
   "id": "c14d622a",
   "metadata": {},
   "outputs": [
    {
     "name": "stdout",
     "output_type": "stream",
     "text": [
      "Enter List: [1,2,3,4,5,6,7,8,9]\n",
      "[1, 2, 3, 4, 5, 6, 7, 8, 9] 1505566238784\n",
      "[1, 2, 3, 4, 5, 6, 7, 8, 9] 1505566391232\n"
     ]
    }
   ],
   "source": [
    "copy_list()"
   ]
  },
  {
   "cell_type": "code",
   "execution_count": 132,
   "id": "0ca91512",
   "metadata": {},
   "outputs": [],
   "source": [
    "def count_Occurence_Num(n):\n",
    "    num_list = eval(input('Enter a list: '))\n",
    "    print(f\"Count Occurrence of number : {n}\")\n",
    "    count=0\n",
    "    for num in num_list:\n",
    "        if num == n:\n",
    "            count+=1\n",
    "        else:\n",
    "            count = count\n",
    "    print(f'The Occurrence of number {n} is {count} in {num_list}')"
   ]
  },
  {
   "cell_type": "code",
   "execution_count": 133,
   "id": "97937c1c",
   "metadata": {},
   "outputs": [
    {
     "name": "stdout",
     "output_type": "stream",
     "text": [
      "Enter a list: [1,2,3,4,2,6,2,5,2,7,2]\n",
      "Count Occurrence of number : 2\n",
      "The Occurrence of number 2 is 5 in [1, 2, 3, 4, 2, 6, 2, 5, 2, 7, 2]\n"
     ]
    }
   ],
   "source": [
    "count_Occurence_Num(2)"
   ]
  }
 ],
 "metadata": {
  "kernelspec": {
   "display_name": "Python 3 (ipykernel)",
   "language": "python",
   "name": "python3"
  },
  "language_info": {
   "codemirror_mode": {
    "name": "ipython",
    "version": 3
   },
   "file_extension": ".py",
   "mimetype": "text/x-python",
   "name": "python",
   "nbconvert_exporter": "python",
   "pygments_lexer": "ipython3",
   "version": "3.9.16"
  }
 },
 "nbformat": 4,
 "nbformat_minor": 5
}
