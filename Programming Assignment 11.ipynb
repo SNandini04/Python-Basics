{
 "cells": [
  {
   "cell_type": "markdown",
   "id": "5caad2d0",
   "metadata": {},
   "source": [
    "### 1.\tWrite a Python program to find words which are greater than given length k? -->\n",
    "### 2.\tWrite a Python program for removing i-th character from a string?\n",
    "### 3.\tWrite a Python program to split and join a string?\n",
    "### 4.\tWrite a Python to check if a given string is binary string or not?\n",
    "### 5.\tWrite a Python program to find uncommon words from two Strings?\n",
    "### 6.\tWrite a Python to find all duplicate characters in string?\n",
    "### 7.\tWrite a Python Program to check if a string contains any special character?"
   ]
  },
  {
   "cell_type": "code",
   "execution_count": 41,
   "id": "562862c2",
   "metadata": {},
   "outputs": [
    {
     "data": {
      "text/plain": [
       "['Python', 'Program', 'greater', 'length']"
      ]
     },
     "execution_count": 41,
     "metadata": {},
     "output_type": "execute_result"
    }
   ],
   "source": [
    "#1 \n",
    "def words_length(k,words):\n",
    "    return [w for w in words.split() if len(w) > k]\n",
    "\n",
    "k = 5\n",
    "words = \"Python Program to find words which are greater than length k\"\n",
    "\n",
    "words_length(k,words)  "
   ]
  },
  {
   "cell_type": "code",
   "execution_count": 58,
   "id": "bdd20db3",
   "metadata": {},
   "outputs": [
    {
     "data": {
      "text/plain": [
       "['Pyhon', 'Prgram', 'fid', 'wods', 'whch', 'ar', 'gratr', 'thn', 'legth']"
      ]
     },
     "execution_count": 58,
     "metadata": {},
     "output_type": "execute_result"
    }
   ],
   "source": [
    "#2\n",
    "def remove_ith(i,string):\n",
    "    return [x.replace(x[i],'') for x in string.split() if len(x) > i]\n",
    "    \n",
    "i = 2\n",
    "string = \"Python Program to find words which are greater than length k\"\n",
    "remove_ith(i,string)"
   ]
  },
  {
   "cell_type": "code",
   "execution_count": 62,
   "id": "6b100665",
   "metadata": {},
   "outputs": [
    {
     "data": {
      "text/plain": [
       "'Python-Program-to-find-words-which-are-greater-than-length-k'"
      ]
     },
     "execution_count": 62,
     "metadata": {},
     "output_type": "execute_result"
    }
   ],
   "source": [
    "#3\n",
    "\n",
    "def split_join(string):\n",
    "    return \"-\".join(string.split())\n",
    "\n",
    "string = \"Python Program to find words which are greater than length k\"\n",
    "split_join(string)"
   ]
  },
  {
   "cell_type": "code",
   "execution_count": 53,
   "id": "2aa43c4f",
   "metadata": {},
   "outputs": [
    {
     "name": "stdout",
     "output_type": "stream",
     "text": [
      "Enter a string:101010\n",
      "101010:It is a Binary String\n",
      "Enter a string:1112248\n",
      "1112248:It is not a Binary String\n"
     ]
    }
   ],
   "source": [
    "#4 \n",
    "\n",
    "def check_str_binary():\n",
    "    string = input(\"Enter a string:\")\n",
    "    b = ['0','1']\n",
    "    count = 0\n",
    "    for i in string:\n",
    "        if i in b:\n",
    "            count=1\n",
    "            continue\n",
    "        else:\n",
    "            count=0\n",
    "            break\n",
    "    if count == 1:\n",
    "        print(f'{string}:It is a Binary String')\n",
    "    else:\n",
    "        print(f'{string}:It is not a Binary String')\n",
    "        \n",
    "    \n",
    "check_str_binary()\n",
    "check_str_binary()"
   ]
  },
  {
   "cell_type": "code",
   "execution_count": 51,
   "id": "50d4be56",
   "metadata": {},
   "outputs": [
    {
     "name": "stdout",
     "output_type": "stream",
     "text": [
      "Enter a string:1112355\n",
      "1112355:It is not a Binary String\n"
     ]
    }
   ],
   "source": [
    "check_str_binary()"
   ]
  },
  {
   "cell_type": "code",
   "execution_count": 18,
   "id": "a17f86a6",
   "metadata": {},
   "outputs": [],
   "source": [
    "#5\n",
    "def uncommon_words(a,b):\n",
    "    a=a.split()\n",
    "    b=b.split()\n",
    "    x = []\n",
    "    for i in a:\n",
    "        if i not in b:\n",
    "            x.append(i)\n",
    "            \n",
    "    for j in b:\n",
    "        if j not in a:\n",
    "            x.append(j)\n",
    "    x = set(x)\n",
    "    return x\n",
    "        "
   ]
  },
  {
   "cell_type": "code",
   "execution_count": 20,
   "id": "54351594",
   "metadata": {},
   "outputs": [
    {
     "data": {
      "text/plain": [
       "{'have', 'i', 'my', 'postponded', 'tomorrow'}"
      ]
     },
     "execution_count": 20,
     "metadata": {},
     "output_type": "execute_result"
    }
   ],
   "source": [
    "uncommon_words(\"i have exam tomorrow\",'my exam postponded')"
   ]
  },
  {
   "cell_type": "code",
   "execution_count": 21,
   "id": "59f6712e",
   "metadata": {},
   "outputs": [],
   "source": [
    "#6\n",
    "def duplicate_words(a,b):\n",
    "    a=a.split()\n",
    "    b=b.split()\n",
    "    x = []\n",
    "    for i in a:\n",
    "        if i in b:\n",
    "            x.append(i)\n",
    "            \n",
    "    for j in b:\n",
    "        if j in a:\n",
    "            x.append(j)\n",
    "    x = set(x)\n",
    "    return x\n"
   ]
  },
  {
   "cell_type": "code",
   "execution_count": 23,
   "id": "b1f845e6",
   "metadata": {},
   "outputs": [
    {
     "data": {
      "text/plain": [
       "{'exam'}"
      ]
     },
     "execution_count": 23,
     "metadata": {},
     "output_type": "execute_result"
    }
   ],
   "source": [
    "duplicate_words(\"i have exam tomorrow\",'my exam postponded')"
   ]
  },
  {
   "cell_type": "code",
   "execution_count": 27,
   "id": "a815d8c3",
   "metadata": {},
   "outputs": [],
   "source": [
    "#7\n",
    "def special_char(a):\n",
    "    s = '[@_!#$%^&*()<>?/\\|}{~:]'\n",
    "    n=0\n",
    "    for i in range(len(a)):\n",
    "        if a[i] in s:\n",
    "            n+=1\n",
    "    if n==0:\n",
    "        print(\"String Has No Special Character In String\")\n",
    "    else:\n",
    "        print(f'String Has {n} Special Characters')\n",
    "        "
   ]
  },
  {
   "cell_type": "code",
   "execution_count": 28,
   "id": "028efff1",
   "metadata": {},
   "outputs": [
    {
     "name": "stdout",
     "output_type": "stream",
     "text": [
      "String Has 3 Special Characters\n"
     ]
    }
   ],
   "source": [
    "special_char('speci@lch@racter]')"
   ]
  }
 ],
 "metadata": {
  "kernelspec": {
   "display_name": "Python 3 (ipykernel)",
   "language": "python",
   "name": "python3"
  },
  "language_info": {
   "codemirror_mode": {
    "name": "ipython",
    "version": 3
   },
   "file_extension": ".py",
   "mimetype": "text/x-python",
   "name": "python",
   "nbconvert_exporter": "python",
   "pygments_lexer": "ipython3",
   "version": "3.9.16"
  }
 },
 "nbformat": 4,
 "nbformat_minor": 5
}
