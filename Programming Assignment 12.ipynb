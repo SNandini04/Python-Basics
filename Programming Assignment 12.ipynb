{
 "cells": [
  {
   "cell_type": "markdown",
   "id": "51fa79bf",
   "metadata": {},
   "source": [
    "#### 1.\tWrite a Python program to Extract Unique values dictionary values?\n",
    "#### 2.\tWrite a Python program to find the sum of all items in a dictionary?\n",
    "#### 3.\tWrite a Python program to Merging two Dictionaries?\n",
    "#### 4.\tWrite a Python program to convert key-values list to flat dictionary?\n",
    "#### 5.\tWrite a Python program to insertion at the beginning in OrderedDict?\n",
    "#### 6.\tWrite a Python program to check order of character in string using OrderedDict()?\n",
    "#### 7.\tWrite a Python program to sort Python Dictionaries by Key or Value?\n"
   ]
  },
  {
   "cell_type": "code",
   "execution_count": 11,
   "id": "082c1351",
   "metadata": {},
   "outputs": [
    {
     "name": "stdout",
     "output_type": "stream",
     "text": [
      "dict_values(['Apple', 'Mango', 'Grapes', 'Apple', 'Papaya', 'Mango'])\n",
      "Unique Values of Dictionary: {'Apple', 'Papaya', 'Grapes', 'Mango'}\n"
     ]
    }
   ],
   "source": [
    "#1\n",
    "fruits = {\n",
    "    1:\"Apple\",2:\"Mango\",3:\"Grapes\",4:\"Apple\",5:\"Papaya\",6:\"Mango\"\n",
    "}\n",
    "\n",
    "print(fruits.values())\n",
    "print(\"Unique Values of Dictionary:\",set(fruits.values()))"
   ]
  },
  {
   "cell_type": "code",
   "execution_count": 12,
   "id": "e63180ed",
   "metadata": {},
   "outputs": [
    {
     "name": "stdout",
     "output_type": "stream",
     "text": [
      "Sum of all items: 90\n"
     ]
    }
   ],
   "source": [
    "#2\n",
    "fruits = {\n",
    "    \"Apple\":10,\"Mango\":10,\"Grapes\":30,\"Papaya\":40\n",
    "}\n",
    "\n",
    "print(\"Sum of all items:\",sum(fruits.values()))"
   ]
  },
  {
   "cell_type": "code",
   "execution_count": 15,
   "id": "2e78b8f1",
   "metadata": {},
   "outputs": [
    {
     "name": "stdout",
     "output_type": "stream",
     "text": [
      "{'Name': 'Nan', 'Degree': 'Master of Science', 'Course': 'Data Science'}\n"
     ]
    }
   ],
   "source": [
    "#3\n",
    "detail = {\n",
    "    'Name':'Nan'\n",
    "}\n",
    "\n",
    "other_details = {\n",
    "    \"Degree\":'Master of Science','Course':\"Data Science\"\n",
    "}\n",
    "\n",
    "detail.update(other_details)\n",
    "print(detail)"
   ]
  },
  {
   "cell_type": "code",
   "execution_count": 17,
   "id": "370f0b17",
   "metadata": {},
   "outputs": [
    {
     "data": {
      "text/plain": [
       "{1: 'Apple', 2: 'Mango', 3: 'Grapes', 4: 'Apple', 5: 'Papaya', 6: 'Mango'}"
      ]
     },
     "execution_count": 17,
     "metadata": {},
     "output_type": "execute_result"
    }
   ],
   "source": [
    "#4\n",
    "in_list = [(1,\"Apple\"),(2,\"Mango\"),(3,\"Grapes\"),(4,\"Apple\"),(5,\"Papaya\"),(6,\"Mango\")]\n",
    "dict(in_list)"
   ]
  },
  {
   "cell_type": "code",
   "execution_count": 29,
   "id": "9677363c",
   "metadata": {},
   "outputs": [
    {
     "name": "stdout",
     "output_type": "stream",
     "text": [
      "OrderedDict([(7, 'orange'), (1, 'Apple'), (2, 'Mango'), (3, 'Grapes'), (4, 'Apple'), (5, 'Papaya'), (6, 'Mango')])\n"
     ]
    }
   ],
   "source": [
    "#5\n",
    "from collections import OrderedDict\n",
    "ord_dict = OrderedDict({1:\"Apple\",2:\"Mango\",3:\"Grapes\",4:\"Apple\",5:\"Papaya\",6:\"Mango\"})\n",
    "\n",
    "ordd_dict = ({7:'orange'})\n",
    "\n",
    "ord_dict.update(ordd_dict)\n",
    "\n",
    "ord_dict.move_to_end(7,last=False)\n",
    "print(ord_dict)\n",
    "ord_dict."
   ]
  },
  {
   "cell_type": "code",
   "execution_count": 2,
   "id": "9fdf44f5",
   "metadata": {},
   "outputs": [
    {
     "data": {
      "text/plain": [
       "'The order of pattern is incorrect'"
      ]
     },
     "execution_count": 2,
     "metadata": {},
     "output_type": "execute_result"
    }
   ],
   "source": [
    "#6\n",
    "from collections import OrderedDict\n",
    "def check_order(string, pattern):\n",
    "    my_dict = OrderedDict.fromkeys(string)\n",
    "    pattern_length = 0\n",
    "    for key,value in my_dict.items():\n",
    "        if (key == pattern[pattern_length]):\n",
    "            pattern_length = pattern_length + 1\n",
    "\n",
    "        if (pattern_length == (len(pattern))):\n",
    "            return 'The order of pattern is correct'\n",
    "\n",
    "    return 'The order of pattern is incorrect'\n",
    "\n",
    "check_order('apple','x')"
   ]
  },
  {
   "cell_type": "code",
   "execution_count": 15,
   "id": "d830a5da",
   "metadata": {},
   "outputs": [
    {
     "data": {
      "text/plain": [
       "True"
      ]
     },
     "execution_count": 15,
     "metadata": {},
     "output_type": "execute_result"
    }
   ],
   "source": [
    "check_order('engineers rock','er')"
   ]
  },
  {
   "cell_type": "code",
   "execution_count": 65,
   "id": "e1bba7ce",
   "metadata": {},
   "outputs": [
    {
     "name": "stdout",
     "output_type": "stream",
     "text": [
      "{'Apple': 10, 'Grapes': 30, 'Mango': 18, 'Papaya': 40, 'orange': 12}\n"
     ]
    }
   ],
   "source": [
    "#7 Write a Python program to sort Python Dictionaries by Key or Value?\n",
    "def sort_dict(mydict):\n",
    "    dict_keys = list(mydict.keys())\n",
    "    dict_keys.sort()\n",
    "    sorted_dict = {i: mydict[i] for i in dict_keys}\n",
    "    \n",
    "    print(sorted_dict)\n",
    "sort_dict(mydict = {\"Apple\":10,\"Mango\":18,\"Grapes\":30,\"Papaya\":40,\"orange':12})"
   ]
  }
 ],
 "metadata": {
  "kernelspec": {
   "display_name": "Python 3 (ipykernel)",
   "language": "python",
   "name": "python3"
  },
  "language_info": {
   "codemirror_mode": {
    "name": "ipython",
    "version": 3
   },
   "file_extension": ".py",
   "mimetype": "text/x-python",
   "name": "python",
   "nbconvert_exporter": "python",
   "pygments_lexer": "ipython3",
   "version": "3.9.16"
  }
 },
 "nbformat": 4,
 "nbformat_minor": 5
}
