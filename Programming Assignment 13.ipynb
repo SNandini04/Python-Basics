{
 "cells": [
  {
   "cell_type": "markdown",
   "id": "8eed48a9",
   "metadata": {},
   "source": [
    "Question 1:\n",
    "\n",
    "Write a program that calculates and prints the value according to the given formula:\n",
    "\n",
    "Q = Square root of [(2 * C * D)/H]\n",
    "\n",
    "Following are the fixed values of C and H:\n",
    "\n",
    "C is 50. H is 30.\n",
    "\n",
    "D is the variable whose values should be input to your program in a comma-separated sequence.\n",
    "\n",
    "Example\n",
    "\n",
    "Let us assume the following comma separated input sequence is given to the program:\n",
    "\n",
    "100,150,180\n",
    "\n",
    "The output of the program should be:\n",
    "\n",
    "18,22,24\n",
    "\n",
    "Question 2:\n",
    "Write a program which takes 2 digits, X,Y as input and generates a 2-dimensional array. The element value in the i-th row and j-th column of the array should be i*j.\n",
    "\n",
    "Note: i=0,1.., X-1; j=0,1,¡¬Y-1.\n",
    "\n",
    "Example\n",
    "\n",
    "Suppose the following inputs are given to the program:\n",
    "\n",
    "3,5\n",
    "\n",
    "Then, the output of the program should be:\n",
    "\n",
    "[[0, 0, 0, 0, 0], [0, 1, 2, 3, 4], [0, 2, 4, 6, 8]] \n",
    "\n",
    "\n",
    "Question 3:\n",
    "Write a program that accepts a comma separated sequence of words as input and prints the words in a comma-separated sequence after sorting them alphabetically.\n",
    "\n",
    "Suppose the following input is supplied to the program:\n",
    "\n",
    "without,hello,bag,world\n",
    "\n",
    "Then, the output should be:\n",
    "\n",
    "bag,hello,without,world\n",
    "\n",
    "\n",
    "\n",
    "Question 4:\n",
    "Write a program that accepts a sequence of whitespace separated words as input and prints the words after removing all duplicate words and sorting them alphanumerically.\n",
    "\n",
    "Suppose the following input is supplied to the program:\n",
    "\n",
    "hello world and practice makes perfect and hello world again\n",
    "\n",
    "Then, the output should be:\n",
    "\n",
    "again and hello makes perfect practice world\n",
    "\n",
    "Question 5:\n",
    "Write a program that accepts a sentence and calculate the number of letters and digits.\n",
    "\n",
    "Suppose the following input is supplied to the program:\n",
    "\n",
    "hello world! 123\n",
    "\n",
    "Then, the output should be:\n",
    "\n",
    "LETTERS 10\n",
    "\n",
    "DIGITS 3\n",
    "\n",
    "Question 6:\n",
    "A website requires the users to input username and password to register. Write a program to check the validity of password input by users.\n",
    "\n",
    "Following are the criteria for checking the password:\n",
    "\n",
    "1. At least 1 letter between [a-z]\n",
    "\n",
    "2. At least 1 number between [0-9]\n",
    "\n",
    "1. At least 1 letter between [A-Z]\n",
    "\n",
    "3. At least 1 character from [$#@]\n",
    "\n",
    "4. Minimum length of transaction password: 6\n",
    "\n",
    "5. Maximum length of transaction password: 12\n",
    "\n",
    "Your program should accept a sequence of comma separated passwords and will check them according to the above criteria. Passwords that match the criteria are to be printed, each separated by a comma.\n",
    "\n",
    "Example\n",
    "\n",
    "If the following passwords are given as input to the program:\n",
    "\n",
    "ABd1234@1,a F1#,2w3E*,2We3345\n",
    "\n",
    "Then, the output of the program should be:\n",
    "\n",
    "ABd1234@1\n"
   ]
  },
  {
   "cell_type": "markdown",
   "id": "4f4fad9d",
   "metadata": {},
   "source": [
    "### Question 1:Write a program that calculates and prints the value according to the given formula:\n",
    " Q = Square root of [(2 * C * D)/H]\n",
    "\n",
    "Following are the fixed values of C and H:\n",
    "C is 50. H is 30.\n",
    "D is the variable whose values should be input to your program in a comma-separated sequence"
   ]
  },
  {
   "cell_type": "code",
   "execution_count": 18,
   "id": "27c600dc",
   "metadata": {},
   "outputs": [
    {
     "name": "stdout",
     "output_type": "stream",
     "text": [
      "Enter numbers: 100,150,180\n"
     ]
    },
    {
     "data": {
      "text/plain": [
       "[18, 22, 24]"
      ]
     },
     "execution_count": 18,
     "metadata": {},
     "output_type": "execute_result"
    }
   ],
   "source": [
    "import math\n",
    "def Q_formula():\n",
    "    number = input('Enter numbers: ')\n",
    "    numbers = number.split(',')\n",
    "    \n",
    "    result = []\n",
    "    for i in numbers:\n",
    "        C=50\n",
    "        H=30\n",
    "        D = i\n",
    "        Q = round(math.sqrt((2*C*int(D))/H))\n",
    "        result.append(Q)\n",
    "    return result \n",
    "Q_formula()"
   ]
  },
  {
   "cell_type": "code",
   "execution_count": 19,
   "id": "2c9838b6",
   "metadata": {},
   "outputs": [
    {
     "name": "stdout",
     "output_type": "stream",
     "text": [
      "Enter numbers: 120,130,200\n"
     ]
    },
    {
     "data": {
      "text/plain": [
       "[20, 21, 26]"
      ]
     },
     "execution_count": 19,
     "metadata": {},
     "output_type": "execute_result"
    }
   ],
   "source": [
    "Q_formula()"
   ]
  },
  {
   "cell_type": "markdown",
   "id": "01747fc0",
   "metadata": {},
   "source": [
    "### Question 2: Write a program which takes 2 digits, X,Y as input and generates a 2-dimensional array. The element value in the i-th row and j-th column of the array should be i*j."
   ]
  },
  {
   "cell_type": "code",
   "execution_count": 75,
   "id": "1e375e22",
   "metadata": {},
   "outputs": [
    {
     "name": "stdout",
     "output_type": "stream",
     "text": [
      "[[0, 0, 0, 0, 0], [0, 1, 2, 3, 4], [0, 2, 4, 6, 8]]\n"
     ]
    }
   ],
   "source": [
    "def gen_2d_array(x,y):\n",
    "    result_matrix = [[0 for c in range(y)] for r in range(x)] \n",
    "    #result_matrix Creates empty matrix with x rows,y columns and initializes all elements to zero \n",
    "    for r in range(x):\n",
    "        for c in range(y):\n",
    "            result_matrix[r][c]=r*c\n",
    "    print(result_matrix)\n",
    "gen_2d_array(3,5)"
   ]
  },
  {
   "cell_type": "code",
   "execution_count": 82,
   "id": "51d6ab47",
   "metadata": {},
   "outputs": [
    {
     "name": "stdout",
     "output_type": "stream",
     "text": [
      "[[0, 0, 0, 0], [0, 1, 2, 3], [0, 2, 4, 6], [0, 3, 6, 9], [0, 4, 8, 12]]\n"
     ]
    }
   ],
   "source": [
    "gen_2d_array(5,4)"
   ]
  },
  {
   "cell_type": "markdown",
   "id": "e8cafaf4",
   "metadata": {},
   "source": [
    "### Question 3: Write a program that accepts a comma separated sequence of words as input and prints the words in a comma-separated sequence after sorting them alphabetically.\n",
    "\n",
    "Suppose the following input is supplied to the program:\n",
    "\n",
    "without,hello,bag,world\n",
    "\n",
    "Then, the output should be:\n",
    "\n",
    "bag,hello,without,world"
   ]
  },
  {
   "cell_type": "code",
   "execution_count": 87,
   "id": "ea6086a6",
   "metadata": {},
   "outputs": [
    {
     "name": "stdout",
     "output_type": "stream",
     "text": [
      "enter sequence of words: without,hello,bag,world\n"
     ]
    },
    {
     "data": {
      "text/plain": [
       "['bag', 'hello', 'without', 'world']"
      ]
     },
     "execution_count": 87,
     "metadata": {},
     "output_type": "execute_result"
    }
   ],
   "source": [
    "def word_sort():\n",
    "    words=input('enter sequence of words: ')\n",
    "    words=words.split(',')\n",
    "    word = []\n",
    "    for w in words:\n",
    "        word.append(w)\n",
    "        word = sorted(word)\n",
    "    return word\n",
    "word_sort()"
   ]
  },
  {
   "cell_type": "code",
   "execution_count": 88,
   "id": "d8af99a1",
   "metadata": {},
   "outputs": [
    {
     "name": "stdout",
     "output_type": "stream",
     "text": [
      "enter sequence of words: x,a,z,c,y,f,l\n"
     ]
    },
    {
     "data": {
      "text/plain": [
       "['a', 'c', 'f', 'l', 'x', 'y', 'z']"
      ]
     },
     "execution_count": 88,
     "metadata": {},
     "output_type": "execute_result"
    }
   ],
   "source": [
    "word_sort()"
   ]
  },
  {
   "cell_type": "markdown",
   "id": "6163fb05",
   "metadata": {},
   "source": [
    "### Question 4: Write a program that accepts a sequence of whitespace separated words as input and prints the words after removing all duplicate words and sorting them alphanumerically.\n",
    "\n",
    "Suppose the following input is supplied to the program:\n",
    "\n",
    "hello world and practice makes perfect and hello world again\n",
    "\n",
    "Then, the output should be:\n",
    "\n",
    "again and hello makes perfect practice world"
   ]
  },
  {
   "cell_type": "code",
   "execution_count": 92,
   "id": "4423d38f",
   "metadata": {},
   "outputs": [
    {
     "name": "stdout",
     "output_type": "stream",
     "text": [
      "enter sequence of words: hello world and practice makes perfect and hello world again\n",
      "again and hello makes perfect practice world\n"
     ]
    }
   ],
   "source": [
    "def word_sort():\n",
    "    words=input('enter sequence of words: ')\n",
    "    words=words.split(' ')\n",
    "    word = []\n",
    "    for w in words:\n",
    "        if w not in word:\n",
    "            word.append(w)\n",
    "        else:\n",
    "            continue\n",
    "    word = sorted(word)\n",
    "    print(' '.join(word))\n",
    "word_sort()"
   ]
  },
  {
   "cell_type": "code",
   "execution_count": 93,
   "id": "470502bd",
   "metadata": {},
   "outputs": [
    {
     "name": "stdout",
     "output_type": "stream",
     "text": [
      "enter sequence of words: y a b s a c z d b e x\n",
      "a b c d e s x y z\n"
     ]
    }
   ],
   "source": [
    "word_sort()"
   ]
  },
  {
   "cell_type": "markdown",
   "id": "7df7aee5",
   "metadata": {},
   "source": [
    "### Question 5: Write a program that accepts a sentence and calculate the number of letters and digits.\n",
    "\n",
    "Suppose the following input is supplied to the program:\n",
    "\n",
    "hello world! 123\n",
    "\n",
    "Then, the output should be:\n",
    "\n",
    "LETTERS 10"
   ]
  },
  {
   "cell_type": "code",
   "execution_count": 128,
   "id": "7a9b4fe5",
   "metadata": {},
   "outputs": [
    {
     "name": "stdout",
     "output_type": "stream",
     "text": [
      "enter a sentence: hello world! 123\n",
      "Letters: 10\n",
      "Digits: 3\n"
     ]
    }
   ],
   "source": [
    "def letter_digit_count():\n",
    "    sentence=input('enter a sentence: ')\n",
    "    digits = 0\n",
    "    letters = 0\n",
    "    for s in sentence:\n",
    "        if s.isdigit():\n",
    "            digits+=1\n",
    "        elif s.isalpha():\n",
    "            letters+=1\n",
    "        else:\n",
    "            pass\n",
    "    print(\"Letters:\",letters)\n",
    "    print(\"Digits:\",digits)\n",
    "letter_digit_count()"
   ]
  },
  {
   "cell_type": "code",
   "execution_count": 129,
   "id": "42b9c7a1",
   "metadata": {},
   "outputs": [
    {
     "name": "stdout",
     "output_type": "stream",
     "text": [
      "enter a sentence: full stack datascience 2.0\n",
      "Letters: 20\n",
      "Digits: 2\n"
     ]
    }
   ],
   "source": [
    "letter_digit_count()"
   ]
  },
  {
   "cell_type": "markdown",
   "id": "f927a9bc",
   "metadata": {},
   "source": [
    "### Question 6: A website requires the users to input username and password to register. Write a program to check the validity of password input by users.\n",
    "\n",
    "Following are the criteria for checking the password:\n",
    "\n",
    "At least 1 letter between [a-z]\n",
    "\n",
    "At least 1 number between [0-9]\n",
    "\n",
    "At least 1 letter between [A-Z]\n",
    "\n",
    "At least 1 character from [$#@]\n",
    "\n",
    "Minimum length of transaction password: 6\n",
    "\n",
    "Maximum length of transaction password: 12\n",
    "\n",
    "Your program should accept a sequence of comma separated passwords and will check them according to the above criteria. Passwords that match the criteria are to be printed, each separated by a comma."
   ]
  },
  {
   "cell_type": "code",
   "execution_count": 159,
   "id": "e89fff49",
   "metadata": {},
   "outputs": [
    {
     "name": "stdout",
     "output_type": "stream",
     "text": [
      "Enter comma-separated passwords: ABd1234@1,a F1#,2w3E*,2We3345\n",
      "ABd1234@1\n"
     ]
    }
   ],
   "source": [
    "import re #Regular Expression:re.search(pattern,string)\n",
    "\n",
    "def valid_password():\n",
    "    password = input(\"Enter comma-separated passwords: \")\n",
    "    password_list = password.split(\",\")\n",
    "    valid_password=[]\n",
    "    \n",
    "    for password in password_list:\n",
    "        if len(password) < 6 or len(password) > 12: #checking length of password\n",
    "            continue\n",
    "            \n",
    "        elif not re.search(r\"[a-z]\", password): #checking letters in password\n",
    "            continue\n",
    "    \n",
    "        elif not re.search(r\"\\d\", password): #checking digit in password\n",
    "            continue \n",
    "    \n",
    "        elif not re.search(r\"[A-Z]\", password): #checking capital letter in password\n",
    "            continue\n",
    "\n",
    "        elif not re.search(r\"[$#@]\", password): #checking for [$#@] in password\n",
    "            continue\n",
    "            \n",
    "        else:\n",
    "            valid_password.append(password)\n",
    "            \n",
    "    print(' '.join(valid_password))\n",
    "\n",
    "valid_password()"
   ]
  }
 ],
 "metadata": {
  "kernelspec": {
   "display_name": "Python 3 (ipykernel)",
   "language": "python",
   "name": "python3"
  },
  "language_info": {
   "codemirror_mode": {
    "name": "ipython",
    "version": 3
   },
   "file_extension": ".py",
   "mimetype": "text/x-python",
   "name": "python",
   "nbconvert_exporter": "python",
   "pygments_lexer": "ipython3",
   "version": "3.9.16"
  }
 },
 "nbformat": 4,
 "nbformat_minor": 5
}
