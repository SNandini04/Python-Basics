{
 "cells": [
  {
   "cell_type": "markdown",
   "id": "3a076945",
   "metadata": {},
   "source": [
    "Question 1:\n",
    "\n",
    "Define a class with a generator which can iterate the numbers, which are divisible by 7, between a given range 0 and n.\n",
    "\n",
    "Question 2:\n",
    "Write a program to compute the frequency of the words from the input. The output should output after sorting the key alphanumerically. \n",
    "\n",
    "Suppose the following input is supplied to the program:\n",
    "\n",
    "New to Python or choosing between Python 2 and Python 3? Read Python 2 or Python 3.\n",
    "\n",
    "Then, the output should be:\n",
    "\n",
    "2:2\n",
    "\n",
    "3.:1\n",
    "\n",
    "3?:1\n",
    "\n",
    "New:1\n",
    "\n",
    "Python:5\n",
    "\n",
    "Read:1\n",
    "\n",
    "and:1\n",
    "\n",
    "between:1\n",
    "\n",
    "choosing:1\n",
    "\n",
    "or:2\n",
    "\n",
    "to:1\n",
    "\n",
    "Question 3:\n",
    "\n",
    "\n",
    "\n",
    "Define a class Person and its two child classes: Male and Female. All classes have a method \"getGender\" which can print \"Male\" for Male class and \"Female\" for Female class.\n",
    "\n",
    "Question 4:\n",
    "Please write a program to generate all sentences where subject is in [\"I\", \"You\"] and verb is in [\"Play\", \"Love\"] and the object is in [\"Hockey\",\"Football\"].\n",
    "\n",
    "\n",
    "Question 5:\n",
    "Please write a program to compress and decompress the string \"hello world!hello world!hello world!hello world!\".\n",
    "\n",
    "Question 6:\n",
    "Please write a binary search function which searches an item in a sorted list. The function should return the index of element to be searched in the list.\n"
   ]
  },
  {
   "cell_type": "code",
   "execution_count": 46,
   "id": "7ca705d0",
   "metadata": {},
   "outputs": [
    {
     "name": "stdout",
     "output_type": "stream",
     "text": [
      "7 14 21 28 35 42 49 56 63 70 77 84 91 98 "
     ]
    }
   ],
   "source": [
    "#1 Define a class with a generator which can iterate the numbers, which are divisible by 7, between a given range 0 and n.\n",
    "\n",
    "class gen_seven:\n",
    "    def __init__(self,num):\n",
    "        self.num = num\n",
    "    def divisible_7(self):\n",
    "        for number in range(1,self.num+1):\n",
    "            if number%7==0:\n",
    "                yield number\n",
    "\n",
    "for i in gen_seven(100).divisible_7():\n",
    "    print(i,end=' ')"
   ]
  },
  {
   "cell_type": "code",
   "execution_count": 33,
   "id": "9c5f36f2",
   "metadata": {},
   "outputs": [
    {
     "name": "stdout",
     "output_type": "stream",
     "text": [
      "enter a sentence:New to Python or choosing between Python 2 and Python 3? Read Python 2 or Python 3\n",
      "2:2\n",
      "3:1\n",
      "3?:1\n",
      "New:1\n",
      "Python:5\n",
      "Read:1\n",
      "and:1\n",
      "between:1\n",
      "choosing:1\n",
      "or:2\n",
      "to:1\n"
     ]
    }
   ],
   "source": [
    "#Q2 \n",
    "def word_frequency():\n",
    "    sentence = input('enter a sentence:')\n",
    "    word_dict = {}\n",
    "    for word in sentence.split():\n",
    "        if word_dict.get(word)==None:\n",
    "            word_dict[word]=1\n",
    "        else:\n",
    "            word_dict[word]+=1\n",
    "    for word in sorted(word_dict):\n",
    "        print(f'{word}:{word_dict[word]}')\n",
    "word_frequency()"
   ]
  },
  {
   "cell_type": "code",
   "execution_count": 12,
   "id": "d676e00f",
   "metadata": {},
   "outputs": [
    {
     "name": "stdout",
     "output_type": "stream",
     "text": [
      "Male\n",
      "Female\n"
     ]
    }
   ],
   "source": [
    "#Q3\n",
    "\n",
    "class Person:\n",
    "    def getGender():\n",
    "        pass\n",
    "class Male(Person):\n",
    "    def getGender():\n",
    "        print('Male')\n",
    "class Female(Person):\n",
    "    def getGender():\n",
    "        print('Female')\n",
    "\n",
    "Male.getGender()\n",
    "Female.getGender()"
   ]
  },
  {
   "cell_type": "code",
   "execution_count": 35,
   "id": "e7bfd7e1",
   "metadata": {},
   "outputs": [
    {
     "name": "stdout",
     "output_type": "stream",
     "text": [
      "I Play Football\n",
      "I Play Hockey\n",
      "I Love Football\n",
      "I Love Hockey\n",
      "You Play Football\n",
      "You Play Hockey\n",
      "You Love Football\n",
      "You Love Hockey\n"
     ]
    }
   ],
   "source": [
    "#Q4\n",
    "def generate_sentence():\n",
    "    subject=['I','You']\n",
    "    verb = ['Play','Love']\n",
    "    objects = ['Football','Hockey']\n",
    "    for i in subject:\n",
    "        for j in verb:\n",
    "            for k in objects:\n",
    "                print(f'{i} {j} {k}')\n",
    "generate_sentence()"
   ]
  },
  {
   "cell_type": "code",
   "execution_count": 120,
   "id": "8e2b7b36",
   "metadata": {},
   "outputs": [
    {
     "name": "stdout",
     "output_type": "stream",
     "text": [
      "Compressed String:\n",
      "hel2o world!hel2o world!hel2o world!hel2o world!\n",
      "ap2le ap2le ten ap2le!\n",
      "Decompressed String\n",
      "hello world!hello world!hello world!hello world!\n",
      "apple apple ten apple!\n"
     ]
    }
   ],
   "source": [
    "#Q5\n",
    "def string_compressor(string):\n",
    "    compressed_str = string[0]\n",
    "    count=1\n",
    "    for i in range(len(string)-1):\n",
    "        if string[i]==string[i+1]:\n",
    "            count+=1\n",
    "        else:\n",
    "            if count > 1:\n",
    "                compressed_str+=str(count)\n",
    "            compressed_str+=string[i+1]\n",
    "            count = 1\n",
    "    if count>1:\n",
    "        compressed_str +=str(count)\n",
    "    print(compressed_str)\n",
    "\n",
    "def string_decompressor(string):\n",
    "    decompressed_str = ''\n",
    "    for i in range(len(string)):\n",
    "        if string[i].isdigit():\n",
    "            decompressed_str += decompressed_str[-1]\n",
    "        else:\n",
    "            decompressed_str += string[i]\n",
    "    print(decompressed_str)\n",
    "\n",
    "print('Compressed String:')\n",
    "string_compressor(string=\"hello world!hello world!hello world!hello world!\")\n",
    "string_compressor(string='apple apple ten apple!')\n",
    "print('Decompressed String')\n",
    "string_decompressor(string='hel2o world!hel2o world!hel2o world!hel2o world!')\n",
    "string_decompressor(string='ap2le ap2le ten ap2le!')"
   ]
  },
  {
   "cell_type": "code",
   "execution_count": 9,
   "id": "9f6f02b7",
   "metadata": {},
   "outputs": [
    {
     "name": "stdout",
     "output_type": "stream",
     "text": [
      "Number is not in the sorted list\n",
      "7\n"
     ]
    }
   ],
   "source": [
    "#06\n",
    "def binary_search(number, target):\n",
    "    lower = 0\n",
    "    upper = len(number)-1\n",
    "    while lower <= upper:\n",
    "        middle = (upper + lower) // 2\n",
    "        if number[middle] < target:\n",
    "            lower = middle+1\n",
    "        elif number[middle] > target:\n",
    "            upper = middle-1\n",
    "        else:\n",
    "            return middle\n",
    "    else:\n",
    "        return \"Number is not in the sorted list\"\n",
    "\n",
    "sorted_list = [1,5,8,10,12,13,55,66,73,78,82,85,88,99]\n",
    "print(binary_search(sorted_list,100))\n",
    "print(binary_search(sorted_list,66))"
   ]
  },
  {
   "cell_type": "code",
   "execution_count": 10,
   "id": "194617a2",
   "metadata": {},
   "outputs": [
    {
     "data": {
      "text/plain": [
       "'Number is not in the sorted list'"
      ]
     },
     "execution_count": 10,
     "metadata": {},
     "output_type": "execute_result"
    }
   ],
   "source": [
    "binary_search(number=[1,2,3,4,5,6],target=10)"
   ]
  }
 ],
 "metadata": {
  "kernelspec": {
   "display_name": "Python 3 (ipykernel)",
   "language": "python",
   "name": "python3"
  },
  "language_info": {
   "codemirror_mode": {
    "name": "ipython",
    "version": 3
   },
   "file_extension": ".py",
   "mimetype": "text/x-python",
   "name": "python",
   "nbconvert_exporter": "python",
   "pygments_lexer": "ipython3",
   "version": "3.9.16"
  }
 },
 "nbformat": 4,
 "nbformat_minor": 5
}
