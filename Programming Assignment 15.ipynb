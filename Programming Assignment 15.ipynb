{
 "cells": [
  {
   "cell_type": "raw",
   "id": "ffd855f0",
   "metadata": {},
   "source": [
    "Question 1:\n",
    "Please write a program using generator to print the numbers which can be divisible by 5 and 7 between 0 and n in comma separated form while n is input by console.\n",
    "Example:\n",
    "If the following n is given as input to the program:\n",
    "100\n",
    "Then, the output of the program should be:\n",
    "0,35,70\n",
    "\n",
    "Question 2:\n",
    "Please write a program using generator to print the even numbers between 0 and n in comma separated form while n is input by console.\n",
    "Example:\n",
    "If the following n is given as input to the program:\n",
    "10\n",
    "Then, the output of the program should be:\n",
    "0,2,4,6,8,10\n",
    "\n",
    "Question 3:\n",
    "The Fibonacci Sequence is computed based on the following formula:\n",
    "f(n)=0 if n=0\n",
    "f(n)=1 if n=1\n",
    "f(n)=f(n-1)+f(n-2) if n>1\n",
    "Please write a program using list comprehension to print the Fibonacci Sequence in comma separated form with a given n input by console.\n",
    "Example:\n",
    "If the following n is given as input to the program:\n",
    "7\n",
    "\n",
    "Then, the output of the program should be:\n",
    "0,1,1,2,3,5,8,13\n",
    "\n",
    "Question 4:\n",
    "Assuming that we have some email addresses in the \"username@companyname.com\" format, please write program to print the user name of a given email address. Both user names and company names are composed of letters only.\n",
    "Example:\n",
    "If the following email address is given as input to the program:\n",
    "john@google.com\n",
    "Then, the output of the program should be:\n",
    "john\n",
    "\n",
    "Question 5:\n",
    "Define a class named Shape and its subclass Square. The Square class has an init function which takes a length as argument. Both classes have a area function which can print the area of the shape where Shape's area is 0 by default.\n"
   ]
  },
  {
   "cell_type": "markdown",
   "id": "0f8b2f89",
   "metadata": {},
   "source": [
    "### Question 1:Please write a program using generator to print the numbers which can be divisible by 5 and 7 between 0 and n in comma separated form while n is input by console."
   ]
  },
  {
   "cell_type": "code",
   "execution_count": 10,
   "id": "ae596700",
   "metadata": {},
   "outputs": [
    {
     "name": "stdout",
     "output_type": "stream",
     "text": [
      "0,35,70,"
     ]
    }
   ],
   "source": [
    "class gen_seven: \n",
    "    #defined constructor\n",
    "    def __init__(self,num):\n",
    "        self.num = num\n",
    "    def divisible_5_7(self): #created method that check whether self.num is divisible by 5 and 7.\n",
    "        for number in range(0,self.num+1):\n",
    "            if number%5==0 and number%7==0 :\n",
    "                yield number  #genetrator \n",
    "\n",
    "for i in gen_seven(100).divisible_5_7():\n",
    "    print(i,end=',')"
   ]
  },
  {
   "cell_type": "markdown",
   "id": "13dc8a57",
   "metadata": {},
   "source": [
    "### Question 2:Please write a program using generator to print the even numbers between 0 and n in comma separated form while n is input by console."
   ]
  },
  {
   "cell_type": "code",
   "execution_count": 12,
   "id": "39758386",
   "metadata": {},
   "outputs": [
    {
     "name": "stdout",
     "output_type": "stream",
     "text": [
      "enter a number:100\n",
      "0,2,4,6,8,10,12,14,16,18,20,22,24,26,28,30,32,34,36,38,40,42,44,46,48,50,52,54,56,58,60,62,64,66,68,70,72,74,76,78,80,82,84,86,88,90,92,94,96,98,100,"
     ]
    }
   ],
   "source": [
    "class gen_even:\n",
    "    def __init__(self,num):\n",
    "        self.num = num\n",
    "    def even_num(self): #created method to check whether self.num is even or not\n",
    "        for number in range(0,self.num+1):\n",
    "            if number%2==0 :\n",
    "                yield number #generates num that is even\n",
    "num=int(input('enter a number:'))\n",
    "for i in gen_even(num).even_num():\n",
    "    print(i,end=',')"
   ]
  },
  {
   "cell_type": "markdown",
   "id": "69a55d29",
   "metadata": {},
   "source": [
    "### Question 3:The Fibonacci Sequence is computed based on the following formula:\n",
    "f(n)=0 if n=0\n",
    "\n",
    "f(n)=1 if n=1\n",
    "\n",
    "f(n)=f(n-1)+f(n-2) if n>1\n",
    "\n",
    "Please write a program using list comprehension to print the Fibonacci Sequence in comma separated form with a given n input by console."
   ]
  },
  {
   "cell_type": "code",
   "execution_count": 34,
   "id": "51585a97",
   "metadata": {},
   "outputs": [
    {
     "name": "stdout",
     "output_type": "stream",
     "text": [
      "Enter the value of n: 10\n",
      "Fibonacci Sequence: 0, 1, 1, 2, 3, 5, 8, 13, 21, 34, 55\n"
     ]
    }
   ],
   "source": [
    "def fibonacci_sequence(n):\n",
    "    sequence = [0, 1]  # Initializing first two elements of sequence\n",
    "    [sequence.append(sequence[-1] + sequence[-2]) for _ in range(n - 1)] #appends sum of last two elements till n-1 range\n",
    "\n",
    "    return sequence\n",
    "\n",
    "#Input Number\n",
    "n = int(input(\"Enter the value of n: \"))\n",
    "\n",
    "# Fibonacci_sequence function\n",
    "fib_sequence = fibonacci_sequence(n)\n",
    "\n",
    "# printing fibonacci sequence in comma separated form\n",
    "print(\"Fibonacci Sequence:\", \", \".join(map(str, fib_sequence)))\n"
   ]
  },
  {
   "cell_type": "markdown",
   "id": "78098580",
   "metadata": {},
   "source": [
    "### Question 4:Assuming that we have some email addresses in the \"username@companyname.com\" format, please write program to print the user name of a given email address. Both user names and company names are composed of letters only."
   ]
  },
  {
   "cell_type": "code",
   "execution_count": 67,
   "id": "12146e19",
   "metadata": {},
   "outputs": [
    {
     "name": "stdout",
     "output_type": "stream",
     "text": [
      "Enter an email address: john@google.com\n",
      "Username: john\n"
     ]
    }
   ],
   "source": [
    "def extract_username(email):\n",
    "    index = email.index('@') #finding index no. of at'@' using string indexing\n",
    "\n",
    "    username = email[:index] #extracting substring before @ index using string slicing\n",
    "\n",
    "    return username\n",
    "\n",
    "email_address = input(\"Enter an email address: \") \n",
    "username = extract_username(email_address)\n",
    "print(\"Username:\", username)\n"
   ]
  },
  {
   "cell_type": "markdown",
   "id": "4e42255c",
   "metadata": {},
   "source": [
    "### Question 5:Define a class named Shape and its subclass Square. The Square class has an init function which takes a length as argument. Both classes have a area function which can print the area of the shape where Shape's area is 0 by default."
   ]
  },
  {
   "cell_type": "code",
   "execution_count": 30,
   "id": "1cd3a7ad",
   "metadata": {},
   "outputs": [
    {
     "data": {
      "text/plain": [
       "25"
      ]
     },
     "execution_count": 30,
     "metadata": {},
     "output_type": "execute_result"
    }
   ],
   "source": [
    "class Shape:\n",
    "    def __init_(self):\n",
    "        pass\n",
    "    \n",
    "    def area(self):\n",
    "        return 0\n",
    "    \n",
    "class Square(Shape):\n",
    "    def __init__(self,length=0):\n",
    "        Shape.__init__(self)\n",
    "        self.length = length\n",
    "        \n",
    "    def area(self):\n",
    "        return self.length*self.length\n",
    "obj = Square(5)\n",
    "obj.area()"
   ]
  },
  {
   "cell_type": "code",
   "execution_count": 31,
   "id": "baf8dee1",
   "metadata": {},
   "outputs": [
    {
     "name": "stdout",
     "output_type": "stream",
     "text": [
      "25\n",
      "0\n"
     ]
    }
   ],
   "source": [
    "Asqr = Square(5)\n",
    "print(Asqr.area())    \n",
    "\n",
    "print(Square().area())"
   ]
  }
 ],
 "metadata": {
  "kernelspec": {
   "display_name": "Python 3 (ipykernel)",
   "language": "python",
   "name": "python3"
  },
  "language_info": {
   "codemirror_mode": {
    "name": "ipython",
    "version": 3
   },
   "file_extension": ".py",
   "mimetype": "text/x-python",
   "name": "python",
   "nbconvert_exporter": "python",
   "pygments_lexer": "ipython3",
   "version": "3.9.16"
  }
 },
 "nbformat": 4,
 "nbformat_minor": 5
}
