{
 "cells": [
  {
   "cell_type": "markdown",
   "id": "e5cf1477",
   "metadata": {},
   "source": [
    "1.\tWrite a Python program to convert kilometers to miles?\n",
    "2.\tWrite a Python program to convert Celsius to Fahrenheit?\n",
    "3.\tWrite a Python program to display calendar?\n",
    "4.\tWrite a Python program to solve quadratic equation?\n",
    "5.\tWrite a Python program to swap two variables without temp variable?"
   ]
  },
  {
   "cell_type": "code",
   "execution_count": 4,
   "id": "ad0d0fc5",
   "metadata": {},
   "outputs": [
    {
     "name": "stdout",
     "output_type": "stream",
     "text": [
      "Enter a total Km: 10\n",
      "Kilometers to miles :  6.2137119\n"
     ]
    }
   ],
   "source": [
    "#1\n",
    "\" 1 Km = 0.62137119 miles\"\n",
    "km = int(input(\"Enter a total Km: \"))\n",
    "miles = 0.62137119\n",
    "km_to_miles = km*miles\n",
    "print(\"Kilometers to miles : \",km_to_miles)\n",
    "         \n",
    "\n"
   ]
  },
  {
   "cell_type": "code",
   "execution_count": 6,
   "id": "b66b0ad8",
   "metadata": {},
   "outputs": [
    {
     "name": "stdout",
     "output_type": "stream",
     "text": [
      "Enter Celsius: 56\n"
     ]
    },
    {
     "data": {
      "text/plain": [
       "132.8"
      ]
     },
     "execution_count": 6,
     "metadata": {},
     "output_type": "execute_result"
    }
   ],
   "source": [
    "#2\n",
    "celsius = int(input(\"Enter Celsius: \"))\n",
    "# Formula = (Celsius * 9/5) + 32 or (celsius * 1.8) + 32\n",
    "Fahrenheit = (celsius * 9/5) + 32\n",
    "Fahrenheit"
   ]
  },
  {
   "cell_type": "code",
   "execution_count": 9,
   "id": "dc6949ad",
   "metadata": {},
   "outputs": [
    {
     "name": "stdout",
     "output_type": "stream",
     "text": [
      "Enter a year: 2022\n",
      "Enter a month: 10\n",
      "    October 2022\n",
      "Mo Tu We Th Fr Sa Su\n",
      "                1  2\n",
      " 3  4  5  6  7  8  9\n",
      "10 11 12 13 14 15 16\n",
      "17 18 19 20 21 22 23\n",
      "24 25 26 27 28 29 30\n",
      "31\n",
      "\n"
     ]
    }
   ],
   "source": [
    "#3\n",
    "import calendar \n",
    "\n",
    "year = int(input(\"Enter a year: \"))\n",
    "month = int(input(\"Enter a month: \"))\n",
    "print(calendar.month(year,month))\n"
   ]
  },
  {
   "cell_type": "code",
   "execution_count": 33,
   "id": "d7024cb5",
   "metadata": {},
   "outputs": [
    {
     "name": "stdout",
     "output_type": "stream",
     "text": [
      "enter a number: 100\n",
      "enter a number: 200\n",
      "enter a number: 100\n",
      "real and same roots\n",
      "-1.0\n"
     ]
    }
   ],
   "source": [
    "from math import sqrt\n",
    "x = int(input(\"enter a number: \"))\n",
    "y = int(input(\"enter a number: \"))\n",
    "z = int(input(\"enter a number: \"))\n",
    "# quadratic equation = If y*y < 4*x*z, then roots are complex\n",
    "# If  y*y = 4*x*z, then roots are real, and both roots are the same.\n",
    "# If y*y > 4*x*z, then roots are real and different \n",
    "\n",
    "d = y**2 - 4*x*z\n",
    "sqrt = sqrt(abs(d))\n",
    "# A = (-y)+sqrt/2x\n",
    "\n",
    "if d > 0:\n",
    "    print(\"real and different roots\")\n",
    "    print((-y + sqrt(d))/(2*x))\n",
    "    print((-y - sqrt(d)/(2*x)))\n",
    "elif d == 0:\n",
    "    print(\"real and same roots\")\n",
    "    print((-y /(2*x)))\n",
    "else:\n",
    "    print(\"complex roots\")\n",
    "    print(-y/2*x,\"+ i\",sqrt)\n",
    "    print(-y/2*x,\"- i\",sqrt)\n"
   ]
  },
  {
   "cell_type": "code",
   "execution_count": 20,
   "id": "6b38350c",
   "metadata": {},
   "outputs": [
    {
     "name": "stdout",
     "output_type": "stream",
     "text": [
      "x: 11\n",
      "y: 18\n"
     ]
    }
   ],
   "source": [
    "#5)\n",
    "\n",
    "x = 18\n",
    "y = 11\n",
    "\n",
    "x = x+y\n",
    "y = x-y\n",
    "x = x-y\n",
    "\n",
    "print(\"x:\",x)\n",
    "print(\"y:\",y)"
   ]
  },
  {
   "cell_type": "code",
   "execution_count": 30,
   "id": "7a85bf8a",
   "metadata": {},
   "outputs": [],
   "source": [
    "# import cmath\n",
    "# x = int(input(\"enter a number: \"))\n",
    "# y = int(input(\"enter a number: \"))\n",
    "# z = int(input(\"enter a number: \"))\n",
    "\n",
    "# d = (y**2) - (4*x*z)\n",
    "\n",
    "# r1 = (-y-cmath.sqrt(d))/(2*x)\n",
    "# r2 = (-y+cmath.sqrt(d))/(2*x)\n",
    "# print(f'The roots are {r1} and {r2}')\n"
   ]
  },
  {
   "cell_type": "code",
   "execution_count": 31,
   "id": "0bbda17d",
   "metadata": {},
   "outputs": [],
   "source": [
    "# 200**2"
   ]
  },
  {
   "cell_type": "code",
   "execution_count": 32,
   "id": "268b9577",
   "metadata": {},
   "outputs": [],
   "source": [
    "# 400*100"
   ]
  },
  {
   "cell_type": "code",
   "execution_count": null,
   "id": "9738c7b4",
   "metadata": {},
   "outputs": [],
   "source": []
  }
 ],
 "metadata": {
  "kernelspec": {
   "display_name": "Python 3 (ipykernel)",
   "language": "python",
   "name": "python3"
  },
  "language_info": {
   "codemirror_mode": {
    "name": "ipython",
    "version": 3
   },
   "file_extension": ".py",
   "mimetype": "text/x-python",
   "name": "python",
   "nbconvert_exporter": "python",
   "pygments_lexer": "ipython3",
   "version": "3.9.7"
  }
 },
 "nbformat": 4,
 "nbformat_minor": 5
}
