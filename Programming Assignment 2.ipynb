{
 "cells": [
  {
   "cell_type": "markdown",
   "id": "e5cf1477",
   "metadata": {},
   "source": [
    "1.\tWrite a Python program to convert kilometers to miles?\n",
    "2.\tWrite a Python program to convert Celsius to Fahrenheit?\n",
    "3.\tWrite a Python program to display calendar?\n",
    "4.\tWrite a Python program to solve quadratic equation?\n",
    "5.\tWrite a Python program to swap two variables without temp variable?"
   ]
  },
  {
   "cell_type": "code",
   "execution_count": 1,
   "id": "ad0d0fc5",
   "metadata": {},
   "outputs": [
    {
     "name": "stdout",
     "output_type": "stream",
     "text": [
      "Enter a total Km: 11\n",
      "Kilometers to miles :  6.8350830899999995\n"
     ]
    }
   ],
   "source": [
    "#1\n",
    "\" 1 Km = 0.62137119 miles\"\n",
    "km = int(input(\"Enter a total Km: \"))\n",
    "miles = 0.62137119\n",
    "km_to_miles = km*miles\n",
    "print(\"Kilometers to miles : \",km_to_miles)\n",
    "         \n",
    "\n"
   ]
  },
  {
   "cell_type": "code",
   "execution_count": 2,
   "id": "b66b0ad8",
   "metadata": {},
   "outputs": [
    {
     "name": "stdout",
     "output_type": "stream",
     "text": [
      "Enter Celsius: 44\n"
     ]
    },
    {
     "data": {
      "text/plain": [
       "111.2"
      ]
     },
     "execution_count": 2,
     "metadata": {},
     "output_type": "execute_result"
    }
   ],
   "source": [
    "#2\n",
    "celsius = int(input(\"Enter Celsius: \"))\n",
    "# Formula = (Celsius * 9/5) + 32 or (celsius * 1.8) + 32\n",
    "Fahrenheit = (celsius * 9/5) + 32\n",
    "Fahrenheit"
   ]
  },
  {
   "cell_type": "code",
   "execution_count": 3,
   "id": "dc6949ad",
   "metadata": {},
   "outputs": [
    {
     "name": "stdout",
     "output_type": "stream",
     "text": [
      "Enter a year: 2022\n",
      "Enter a month: 10\n",
      "    October 2022\n",
      "Mo Tu We Th Fr Sa Su\n",
      "                1  2\n",
      " 3  4  5  6  7  8  9\n",
      "10 11 12 13 14 15 16\n",
      "17 18 19 20 21 22 23\n",
      "24 25 26 27 28 29 30\n",
      "31\n",
      "\n"
     ]
    }
   ],
   "source": [
    "#3\n",
    "import calendar \n",
    "\n",
    "year = int(input(\"Enter a year: \"))\n",
    "month = int(input(\"Enter a month: \"))\n",
    "print(calendar.month(year,month))\n"
   ]
  },
  {
   "cell_type": "code",
   "execution_count": 4,
   "id": "d7024cb5",
   "metadata": {},
   "outputs": [
    {
     "name": "stdout",
     "output_type": "stream",
     "text": [
      "enter a number: 8\n",
      "enter a number: 4\n",
      "enter a number: 8\n",
      "complex roots\n",
      "-16.0 + i 15.491933384829668\n",
      "-16.0 - i 15.491933384829668\n"
     ]
    }
   ],
   "source": [
    "from math import sqrt\n",
    "x = int(input(\"enter a number: \"))\n",
    "y = int(input(\"enter a number: \"))\n",
    "z = int(input(\"enter a number: \"))\n",
    "# quadratic equation = If y*y < 4*x*z, then roots are complex\n",
    "# If  y*y = 4*x*z, then roots are real, and both roots are the same.\n",
    "# If y*y > 4*x*z, then roots are real and different\n",
    "\n",
    "d = y**2 - 4*x*z\n",
    "sqrt = sqrt(abs(d))\n",
    "\n",
    "if d > 0:\n",
    "    print(\"real and different roots\")\n",
    "    print((-y + sqrt(d))/(2*x))\n",
    "    print((-y - sqrt(d)/(2*x)))\n",
    "elif d == 0:\n",
    "    print(\"real and same roots\")\n",
    "    print((-y /(2*x)))\n",
    "else:\n",
    "    print(\"complex roots\")\n",
    "    print(-y/2*x,\"+ i\",sqrt)\n",
    "    print(-y/2*x,\"- i\",sqrt)\n"
   ]
  },
  {
   "cell_type": "code",
   "execution_count": 5,
   "id": "6b38350c",
   "metadata": {},
   "outputs": [
    {
     "name": "stdout",
     "output_type": "stream",
     "text": [
      "x: 11\n",
      "y: 18\n"
     ]
    }
   ],
   "source": [
    "#5)\n",
    "\n",
    "x = 18\n",
    "y = 11\n",
    "\n",
    "x = x+y\n",
    "y = x-y\n",
    "x = x-y\n",
    "\n",
    "print(\"x:\",x)\n",
    "print(\"y:\",y)"
   ]
  },
  {
   "cell_type": "code",
   "execution_count": null,
   "id": "7a85bf8a",
   "metadata": {},
   "outputs": [],
   "source": []
  },
  {
   "cell_type": "code",
   "execution_count": null,
   "id": "0bbda17d",
   "metadata": {},
   "outputs": [],
   "source": []
  },
  {
   "cell_type": "code",
   "execution_count": null,
   "id": "268b9577",
   "metadata": {},
   "outputs": [],
   "source": []
  }
 ],
 "metadata": {
  "kernelspec": {
   "display_name": "Python 3 (ipykernel)",
   "language": "python",
   "name": "python3"
  },
  "language_info": {
   "codemirror_mode": {
    "name": "ipython",
    "version": 3
   },
   "file_extension": ".py",
   "mimetype": "text/x-python",
   "name": "python",
   "nbconvert_exporter": "python",
   "pygments_lexer": "ipython3",
   "version": "3.9.7"
  }
 },
 "nbformat": 4,
 "nbformat_minor": 5
}
