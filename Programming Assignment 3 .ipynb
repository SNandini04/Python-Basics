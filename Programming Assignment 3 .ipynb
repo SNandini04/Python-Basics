{
 "cells": [
  {
   "cell_type": "markdown",
   "id": "518de3cf",
   "metadata": {},
   "source": [
    "1.\tWrite a Python Program to Check if a Number is Positive, Negative or Zero?\n",
    "2.\tWrite a Python Program to Check if a Number is Odd or Even?\n",
    "3.\tWrite a Python Program to Check Leap Year?\n",
    "4.\tWrite a Python Program to Check Prime Number?\n",
    "5.\tWrite a Python Program to Print all Prime Numbers in an Interval of 1-10000?"
   ]
  },
  {
   "cell_type": "code",
   "execution_count": 1,
   "id": "6f9e8fed",
   "metadata": {},
   "outputs": [
    {
     "name": "stdout",
     "output_type": "stream",
     "text": [
      "Enter a number: 8\n",
      "8 is the positive number\n"
     ]
    }
   ],
   "source": [
    "#1\n",
    "num = int(input(\"Enter a number: \"))\n",
    "if num < 0:\n",
    "    print(num,\"is the negative number\")\n",
    "elif num > 0:\n",
    "    print(num, \"is the positive number\")\n",
    "else:\n",
    "    print(num,\"zero\")\n"
   ]
  },
  {
   "cell_type": "code",
   "execution_count": 2,
   "id": "cf07a051",
   "metadata": {},
   "outputs": [
    {
     "name": "stdout",
     "output_type": "stream",
     "text": [
      "Enter a number: 11\n",
      "11 is the odd number\n"
     ]
    }
   ],
   "source": [
    "num = int(input(\"Enter a number: \"))\n",
    "\n",
    "if num%2==0:\n",
    "    print(num,\"is the even number\")\n",
    "else:\n",
    "    print(num,\"is the odd number\")"
   ]
  },
  {
   "cell_type": "code",
   "execution_count": 3,
   "id": "59179912",
   "metadata": {},
   "outputs": [],
   "source": [
    "# year = int(input(\"Enter a number: \"))\n",
    "\n",
    "def leapyear(year):\n",
    "    if (year%4==0 and year%100!=0 or year%400==0):\n",
    "        print(year,\"is the leap year\")\n",
    "    else:\n",
    "        print(year,\"is not a leap year\")"
   ]
  },
  {
   "cell_type": "code",
   "execution_count": 4,
   "id": "d979deca",
   "metadata": {},
   "outputs": [
    {
     "name": "stdout",
     "output_type": "stream",
     "text": [
      "1200 is the leap year\n",
      "2000 is the leap year\n",
      "2018 is not a leap year\n",
      "2021 is not a leap year\n"
     ]
    }
   ],
   "source": [
    "leapyear(1200)\n",
    "leapyear(2000)\n",
    "leapyear(2018)\n",
    "leapyear(2021)"
   ]
  },
  {
   "cell_type": "code",
   "execution_count": 5,
   "id": "fda9119b",
   "metadata": {},
   "outputs": [
    {
     "name": "stdout",
     "output_type": "stream",
     "text": [
      "enter a number: 13\n",
      "13 is a prime number\n"
     ]
    }
   ],
   "source": [
    "#4 \n",
    "prime_num = int(input(\"enter a number: \"))\n",
    "if prime_num > 1:  \n",
    "    for i in range(2,prime_num):\n",
    "        if (prime_num%i)==0 :\n",
    "            print(prime_num,\"is not a prime num\")\n",
    "            break\n",
    "    else:\n",
    "        print(prime_num,\"is a prime number\")\n",
    "else:\n",
    "    print(prime_num,\"is not a prime number\")\n",
    "        "
   ]
  },
  {
   "cell_type": "code",
   "execution_count": 28,
   "id": "611d9bc7",
   "metadata": {},
   "outputs": [
    {
     "name": "stdout",
     "output_type": "stream",
     "text": [
      "Enter a number: 2\n",
      "Enter a number: 1000\n",
      "Prime numbers in the range between 2 to 1000 are :\n",
      "2 3 5 7 11 13 17 19 23 29 31 37 41 43 47 53 59 61 67 71 73 79 83 89 97 101 103 107 109 113 127 131 137 139 149 151 157 163 167 173 179 181 191 193 197 199 211 223 227 229 233 239 241 251 257 263 269 271 277 281 283 293 307 311 313 317 331 337 347 349 353 359 367 373 379 383 389 397 401 409 419 421 431 433 439 443 449 457 461 463 467 479 487 491 499 503 509 521 523 541 547 557 563 569 571 577 587 593 599 601 607 613 617 619 631 641 643 647 653 659 661 673 677 683 691 701 709 719 727 733 739 743 751 757 761 769 773 787 797 809 811 821 823 827 829 839 853 857 859 863 877 881 883 887 907 911 919 929 937 941 947 953 967 971 977 983 991 997 "
     ]
    }
   ],
   "source": [
    "#5\n",
    "start = int(input(\"Enter a number: \"))\n",
    "stop = int(input(\"Enter a number: \"))\n",
    "print(f\"Prime numbers in the range between {start} to {stop} are :\")\n",
    "for i in range(start,stop+1):\n",
    "    if i>1:\n",
    "        for j in range(2,i):\n",
    "            if i%j==0:\n",
    "                break\n",
    "        else:\n",
    "            print(i, end=' ')\n",
    "            \n"
   ]
  },
  {
   "cell_type": "code",
   "execution_count": null,
   "id": "c8d7b32e",
   "metadata": {},
   "outputs": [],
   "source": []
  }
 ],
 "metadata": {
  "kernelspec": {
   "display_name": "Python 3 (ipykernel)",
   "language": "python",
   "name": "python3"
  },
  "language_info": {
   "codemirror_mode": {
    "name": "ipython",
    "version": 3
   },
   "file_extension": ".py",
   "mimetype": "text/x-python",
   "name": "python",
   "nbconvert_exporter": "python",
   "pygments_lexer": "ipython3",
   "version": "3.9.7"
  }
 },
 "nbformat": 4,
 "nbformat_minor": 5
}
