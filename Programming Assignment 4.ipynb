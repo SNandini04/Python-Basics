{
 "cells": [
  {
   "cell_type": "markdown",
   "id": "c4219356",
   "metadata": {},
   "source": [
    "1.\tWrite a Python Program to Find the Factorial of a Number?\n",
    "2.\tWrite a Python Program to Display the multiplication Table?\n",
    "3.\tWrite a Python Program to Print the Fibonacci sequence?\n",
    "4.\tWrite a Python Program to Check Armstrong Number?\n",
    "5.\tWrite a Python Program to Find Armstrong Number in an Interval?\n",
    "6.\tWrite a Python Program to Find the Sum of Natural Numbers?"
   ]
  },
  {
   "cell_type": "code",
   "execution_count": 1,
   "id": "4dc217b0",
   "metadata": {},
   "outputs": [
    {
     "name": "stdout",
     "output_type": "stream",
     "text": [
      "enter a number: 8\n",
      "40320\n"
     ]
    }
   ],
   "source": [
    "#1\n",
    "num = int(input(\"enter a number: \"))\n",
    "factorial = 1\n",
    "if num < 0:\n",
    "    print(\"Factorial of Negative number cannot be computed\")\n",
    "elif num == 0:\n",
    "    print(f\"Factorial of {num} is 1\")\n",
    "else:\n",
    "    for i in range(num,1,-1):\n",
    "        factorial = i*factorial\n",
    "    print(factorial)"
   ]
  },
  {
   "cell_type": "code",
   "execution_count": 2,
   "id": "7ca2477f",
   "metadata": {},
   "outputs": [
    {
     "name": "stdout",
     "output_type": "stream",
     "text": [
      "enter a number: 6\n",
      "6 x 1 = 6\n",
      "6 x 2 = 12\n",
      "6 x 3 = 18\n",
      "6 x 4 = 24\n",
      "6 x 5 = 30\n",
      "6 x 6 = 36\n",
      "6 x 7 = 42\n",
      "6 x 8 = 48\n",
      "6 x 9 = 54\n",
      "6 x 10 = 60\n"
     ]
    }
   ],
   "source": [
    "#2\n",
    "num = int(input(\"enter a number: \"))\n",
    "for i in range(1,11):\n",
    "    print(num,\"x\",i,\"=\",num*i)"
   ]
  },
  {
   "cell_type": "code",
   "execution_count": 11,
   "id": "8c696197",
   "metadata": {},
   "outputs": [
    {
     "name": "stdout",
     "output_type": "stream",
     "text": [
      "enter a nth term: 10\n",
      "Fibonacci series: \n",
      "0\n",
      "1\n",
      "1\n",
      "2\n",
      "3\n",
      "5\n",
      "8\n",
      "13\n",
      "21\n",
      "34\n"
     ]
    }
   ],
   "source": [
    "#3\n",
    "n_num= int(input(\"enter a nth term: \"))\n",
    "initial_n1,initial_n2 = 0,1\n",
    "nth_count = 0\n",
    "\n",
    "if n_num <=0:\n",
    "    print(\"enter a positive number\")\n",
    "elif n_num == 1:\n",
    "    print(\"fibonacci series for\",n_num,\"is\",initial_n1)\n",
    "else:\n",
    "    print(\"Fibonacci series: \") \n",
    "    while nth_count < n_num:\n",
    "        print(initial_n1)\n",
    "        nth = initial_n1 + initial_n2\n",
    "        initial_n1 = initial_n2\n",
    "        initial_n2 = nth\n",
    "        nth_count += 1\n",
    "        \n"
   ]
  },
  {
   "cell_type": "code",
   "execution_count": 39,
   "id": "cbae1dba",
   "metadata": {},
   "outputs": [
    {
     "name": "stdout",
     "output_type": "stream",
     "text": [
      "enter a number:100\n",
      "enter a number: 1000\n",
      "153 is an armstrong number\n",
      "370 is an armstrong number\n",
      "371 is an armstrong number\n",
      "407 is an armstrong number\n"
     ]
    }
   ],
   "source": [
    "# 5\n",
    "n1 = int(input(\"enter a number:\"))\n",
    "n2 = int(input(\"enter a number: \"))\n",
    "\n",
    "for num in range(n1,n2+1):\n",
    "    n = len(str(num))\n",
    "    \n",
    "    result = 0\n",
    "    \n",
    "    number = num\n",
    "    while number>0:\n",
    "        digit = number%10\n",
    "        result = result+ digit**n\n",
    "        number//=10\n",
    "    if num == result:\n",
    "        print(num ,\"is an armstrong number\")"
   ]
  },
  {
   "cell_type": "code",
   "execution_count": 45,
   "id": "9a42fc18",
   "metadata": {},
   "outputs": [
    {
     "name": "stdout",
     "output_type": "stream",
     "text": [
      "enter a number: 370\n",
      "370 is an armstrong number\n"
     ]
    }
   ],
   "source": [
    "# 4\n",
    "i = int(input(\"enter a number: \"))\n",
    "num = i\n",
    "result = 0\n",
    "n = len(str(i))\n",
    "while(i!=0):\n",
    "    number = i%10\n",
    "    result = result+number**n\n",
    "    i=i//10\n",
    "\n",
    "    \n",
    "if num==result:\n",
    "    print(result,\"is an armstrong number\")\n",
    "else:\n",
    "    print(result,\"not an armstrong number\")"
   ]
  },
  {
   "cell_type": "code",
   "execution_count": 43,
   "id": "8cf2aa53",
   "metadata": {},
   "outputs": [],
   "source": [
    "6# \n",
    "def sumofnaturalnum(n):\n",
    "    result = 0\n",
    "    for i in n:\n",
    "        if i<=0:\n",
    "            print(\"It is not a natural number\")\n",
    "        else:\n",
    "            result+=i\n",
    "    print(\"Sum_of_natural_number: \",result)"
   ]
  },
  {
   "cell_type": "code",
   "execution_count": 44,
   "id": "23a2856b",
   "metadata": {},
   "outputs": [
    {
     "name": "stdout",
     "output_type": "stream",
     "text": [
      "It is not a natural number\n",
      "It is not a natural number\n",
      "It is not a natural number\n",
      "Sum_of_natural_number:  15\n"
     ]
    }
   ],
   "source": [
    "sumofnaturalnum([0,1,2,3,4,5,-1,-4])"
   ]
  },
  {
   "cell_type": "code",
   "execution_count": 46,
   "id": "07efd40a",
   "metadata": {},
   "outputs": [
    {
     "name": "stdout",
     "output_type": "stream",
     "text": [
      "It is not a natural number\n",
      "It is not a natural number\n",
      "Sum_of_natural_number:  30\n"
     ]
    }
   ],
   "source": [
    "sumofnaturalnum([10,20,-10,-20])"
   ]
  },
  {
   "cell_type": "code",
   "execution_count": null,
   "id": "a75c7ad3",
   "metadata": {},
   "outputs": [],
   "source": []
  }
 ],
 "metadata": {
  "kernelspec": {
   "display_name": "Python 3 (ipykernel)",
   "language": "python",
   "name": "python3"
  },
  "language_info": {
   "codemirror_mode": {
    "name": "ipython",
    "version": 3
   },
   "file_extension": ".py",
   "mimetype": "text/x-python",
   "name": "python",
   "nbconvert_exporter": "python",
   "pygments_lexer": "ipython3",
   "version": "3.9.7"
  }
 },
 "nbformat": 4,
 "nbformat_minor": 5
}
