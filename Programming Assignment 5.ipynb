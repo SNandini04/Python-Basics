{
 "cells": [
  {
   "cell_type": "markdown",
   "id": "9808b1db",
   "metadata": {},
   "source": [
    "1.\tWrite a Python Program to Find LCM?\n",
    "2.\tWrite a Python Program to Find HCF?\n",
    "3.\tWrite a Python Program to Convert Decimal to Binary, Octal and Hexadecimal?\n",
    "4.\tWrite a Python Program To Find ASCII value of a character?\n",
    "5.\tWrite a Python Program to Make a Simple Calculator with 4 basic mathematical operations?"
   ]
  },
  {
   "cell_type": "code",
   "execution_count": 11,
   "id": "89ee02ee",
   "metadata": {},
   "outputs": [],
   "source": [
    "# 1\n",
    "def lcm():\n",
    "    n1 = int(input(\"enter a number: \"))\n",
    "    n2 = int(input(\"enter a number: \"))\n",
    "    if n1>n2:\n",
    "        bigger = n1\n",
    "    else:\n",
    "        bigger = n2\n",
    "         \n",
    "    while True:\n",
    "        if (bigger%n1 == 0) and (bigger%n2 ==0): \n",
    "            lcm = bigger\n",
    "            break \n",
    "        bigger +=1\n",
    "    return lcm    "
   ]
  },
  {
   "cell_type": "code",
   "execution_count": 12,
   "id": "1a4ba249",
   "metadata": {},
   "outputs": [
    {
     "name": "stdout",
     "output_type": "stream",
     "text": [
      "enter a number: 16\n",
      "enter a number: 26\n"
     ]
    },
    {
     "data": {
      "text/plain": [
       "208"
      ]
     },
     "execution_count": 12,
     "metadata": {},
     "output_type": "execute_result"
    }
   ],
   "source": [
    "lcm()"
   ]
  },
  {
   "cell_type": "code",
   "execution_count": 24,
   "id": "6461ec22",
   "metadata": {},
   "outputs": [],
   "source": [
    "# 2 \n",
    "def hcf():\n",
    "    n1 = int(input(\"enter a number: \"))\n",
    "    n2 = int(input(\"enter a number: \"))\n",
    "    \n",
    "    if n1>n2:\n",
    "        smaller = n2\n",
    "    else:\n",
    "        smaller = n1\n",
    "        \n",
    "    for x in range(1,smaller+1):\n",
    "        if(n1%x==0) and (n2%x==0):\n",
    "            hcf = x\n",
    "    return hcf\n",
    "        "
   ]
  },
  {
   "cell_type": "code",
   "execution_count": 25,
   "id": "493f2e7e",
   "metadata": {},
   "outputs": [
    {
     "name": "stdout",
     "output_type": "stream",
     "text": [
      "enter a number: 6\n",
      "enter a number: 12\n"
     ]
    },
    {
     "data": {
      "text/plain": [
       "6"
      ]
     },
     "execution_count": 25,
     "metadata": {},
     "output_type": "execute_result"
    }
   ],
   "source": [
    "hcf()"
   ]
  },
  {
   "cell_type": "code",
   "execution_count": 26,
   "id": "d61c4a88",
   "metadata": {},
   "outputs": [],
   "source": [
    "# 3\n",
    "def convertdecimal():\n",
    "    number = int(input(\"enter a number: \"))\n",
    "    print(\"Decimal to binary(0b):\", bin(number))\n",
    "    print(\"Decimal to octal(0o):\", oct(number))\n",
    "    print(\"Decimal to hexadecimal(0x):\", hex(number))\n",
    "    \n"
   ]
  },
  {
   "cell_type": "code",
   "execution_count": 27,
   "id": "96deb543",
   "metadata": {},
   "outputs": [
    {
     "name": "stdout",
     "output_type": "stream",
     "text": [
      "enter a number: 18\n",
      "Decimal to binary(0b): 0b10010\n",
      "Decimal to octal(0o): 0o22\n",
      "Decimal to hexadecimal(0x): 0x12\n"
     ]
    }
   ],
   "source": [
    "convertdecimal()"
   ]
  },
  {
   "cell_type": "code",
   "execution_count": 30,
   "id": "15c5f4f3",
   "metadata": {},
   "outputs": [
    {
     "name": "stdout",
     "output_type": "stream",
     "text": [
      "enter a string: string to ascii\n",
      "length of string:  15\n",
      "115\n",
      "116\n",
      "114\n",
      "105\n",
      "110\n",
      "103\n",
      "32\n",
      "116\n",
      "111\n",
      "32\n",
      "97\n",
      "115\n",
      "99\n",
      "105\n",
      "105\n"
     ]
    }
   ],
   "source": [
    "# 4\n",
    "string = input(\"enter a string: \")\n",
    "stringlen = print(\"length of string: \",len(string))\n",
    "for char in string:\n",
    "    ascii = ord(char)\n",
    "    print(ascii)"
   ]
  },
  {
   "cell_type": "code",
   "execution_count": 33,
   "id": "f4a2aea9",
   "metadata": {},
   "outputs": [],
   "source": [
    "# 5\n",
    "\n",
    "def calculate():\n",
    "    print(\"please select operation:\")\n",
    "    print(\"1.Add(+) 2.substract(-) 3.Multiply(*) 4.Divide(/)\")\n",
    "    operation = input(\"enter sign|(+,-,/,*): \")\n",
    "    n1 = int(input(\"enter a number: \"))\n",
    "    n2 = int(input(\"enter a number: \"))\n",
    "    if operation == \"+\":\n",
    "        print(n1+n2)\n",
    "    elif operation == \"-\":\n",
    "        print(n1-n2)\n",
    "    elif operation == \"/\":\n",
    "        print(n1/n2)\n",
    "    elif operation == \"*\":\n",
    "        print(n1*n2)\n",
    "    else:\n",
    "        print(\"Enter a valid operation\")"
   ]
  },
  {
   "cell_type": "code",
   "execution_count": 35,
   "id": "20524c83",
   "metadata": {},
   "outputs": [
    {
     "name": "stdout",
     "output_type": "stream",
     "text": [
      "please select operation:\n",
      "1.Add(+) 2.substract(-) 3.Multiply(*) 4.Divide(/)\n",
      "enter sign|(+,-,/,*): /\n",
      "enter a number: 44\n",
      "enter a number: 11\n",
      "4.0\n"
     ]
    }
   ],
   "source": [
    "calculate()"
   ]
  },
  {
   "cell_type": "code",
   "execution_count": null,
   "id": "eae62c03",
   "metadata": {},
   "outputs": [],
   "source": []
  }
 ],
 "metadata": {
  "kernelspec": {
   "display_name": "Python 3 (ipykernel)",
   "language": "python",
   "name": "python3"
  },
  "language_info": {
   "codemirror_mode": {
    "name": "ipython",
    "version": 3
   },
   "file_extension": ".py",
   "mimetype": "text/x-python",
   "name": "python",
   "nbconvert_exporter": "python",
   "pygments_lexer": "ipython3",
   "version": "3.9.7"
  }
 },
 "nbformat": 4,
 "nbformat_minor": 5
}
