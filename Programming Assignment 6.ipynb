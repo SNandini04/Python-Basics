{
 "cells": [
  {
   "cell_type": "markdown",
   "id": "a79a3175",
   "metadata": {},
   "source": [
    "1.\tWrite a Python Program to Display Fibonacci Sequence Using Recursion?\n",
    "2.\tWrite a Python Program to Find Factorial of Number Using Recursion?\n",
    "3.\tWrite a Python Program to calculate your Body Mass Index?\n",
    "4.\tWrite a Python Program to calculate the natural logarithm of any number?\n",
    "5.\tWrite a Python Program for cube sum of first n natural numbers?"
   ]
  },
  {
   "cell_type": "code",
   "execution_count": 1,
   "id": "b163e7df",
   "metadata": {},
   "outputs": [
    {
     "name": "stdout",
     "output_type": "stream",
     "text": [
      "enter a number: 8\n",
      "Fibonacci sequence: \n",
      "0\n",
      "1\n",
      "1\n",
      "2\n",
      "3\n",
      "5\n",
      "8\n",
      "13\n"
     ]
    }
   ],
   "source": [
    "# 1\n",
    "\n",
    "def recursion(num):\n",
    "    if num<=1:\n",
    "        return num\n",
    "    else:\n",
    "        return (recursion(num-1) + recursion(num-2))\n",
    "        \n",
    "number = int(input(\"enter a number: \"))\n",
    "print(\"Fibonacci sequence: \")\n",
    "if number<=0:\n",
    "    print(\"Invalid!Please enter +ve number\")\n",
    "else:\n",
    "    for x in range(number):\n",
    "        print(recursion(x))"
   ]
  },
  {
   "cell_type": "code",
   "execution_count": 7,
   "id": "d8a659fa",
   "metadata": {},
   "outputs": [
    {
     "name": "stdout",
     "output_type": "stream",
     "text": [
      "enter a number: 5\n",
      "factorial of 5 is 120\n"
     ]
    }
   ],
   "source": [
    "def factorial(num):\n",
    "    if num == 1:\n",
    "        return num\n",
    "    else:\n",
    "        return (num*factorial(num-1))\n",
    "\n",
    "number = int(input(\"enter a number: \"))\n",
    "if number<0:\n",
    "    print(\"Invalid!,enter +ve number\")\n",
    "elif number==0:\n",
    "    print(f\"factorial of {number} is 1\")\n",
    "else:\n",
    "    print(f\"factorial of {number} is\",factorial(number))\n",
    "    \n",
    "        \n"
   ]
  },
  {
   "cell_type": "code",
   "execution_count": 9,
   "id": "3f444d83",
   "metadata": {},
   "outputs": [
    {
     "name": "stdout",
     "output_type": "stream",
     "text": [
      "enter your height in cm: 169\n",
      "enter your weight in kg: 62\n",
      "your body mass index is 21.707923392038097\n",
      "your weight is normal\n"
     ]
    }
   ],
   "source": [
    "# 3\n",
    "height = float(input(\"enter your height in cm: \"))\n",
    "weight = float(input(\"enter your weight in kg: \"))\n",
    "bmi = weight/(height/100)**2\n",
    "print(f'your body mass index is {bmi}')\n",
    "\n",
    "if bmi<18.5:\n",
    "    print(\"You are under weight\")\n",
    "elif (bmi>18.5) and (bmi<24.9):\n",
    "    print(\"your weight is normal\")\n",
    "elif (bmi>25) and (bmi<29.9):\n",
    "    print(\"you are overweight\")\n",
    "else:\n",
    "    print(\"you have obesity\")"
   ]
  },
  {
   "cell_type": "code",
   "execution_count": 10,
   "id": "caa70cae",
   "metadata": {},
   "outputs": [
    {
     "name": "stdout",
     "output_type": "stream",
     "text": [
      "enter a number : 15\n",
      "the natural logritham of 15 is 2.70805020110221\n"
     ]
    }
   ],
   "source": [
    "# 4\n",
    "from math import log\n",
    "number = int(input(\"enter a number : \"))\n",
    "print(f\"the natural logritham of {number} is\",log(number))"
   ]
  },
  {
   "cell_type": "code",
   "execution_count": 25,
   "id": "9b374248",
   "metadata": {},
   "outputs": [
    {
     "name": "stdout",
     "output_type": "stream",
     "text": [
      "enter a number: 5\n",
      "225\n"
     ]
    }
   ],
   "source": [
    "# 5\n",
    "num = int(input(\"enter a number: \"))\n",
    "result = 0\n",
    "\n",
    "for x in range(1,num+1):\n",
    "    result = result+pow(x,3)\n",
    "print(result)\n",
    "    \n",
    "    "
   ]
  },
  {
   "cell_type": "code",
   "execution_count": null,
   "id": "aecce73e",
   "metadata": {},
   "outputs": [],
   "source": []
  }
 ],
 "metadata": {
  "kernelspec": {
   "display_name": "Python 3 (ipykernel)",
   "language": "python",
   "name": "python3"
  },
  "language_info": {
   "codemirror_mode": {
    "name": "ipython",
    "version": 3
   },
   "file_extension": ".py",
   "mimetype": "text/x-python",
   "name": "python",
   "nbconvert_exporter": "python",
   "pygments_lexer": "ipython3",
   "version": "3.9.7"
  }
 },
 "nbformat": 4,
 "nbformat_minor": 5
}
