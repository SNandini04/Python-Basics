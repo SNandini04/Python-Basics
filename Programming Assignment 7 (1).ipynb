{
 "cells": [
  {
   "cell_type": "markdown",
   "id": "89f95479",
   "metadata": {},
   "source": [
    "### Write a Python Program to find sum of array?\n",
    "### Write a Python Program to find largest element in an array?\n",
    "### Write a Python Program for array rotation?\n",
    "### Write a Python Program to Split the array and add the first part to the end?\n",
    "### Write a Python Program to check if given array is Monotonic?\n"
   ]
  },
  {
   "cell_type": "code",
   "execution_count": 1,
   "id": "d6077f36",
   "metadata": {},
   "outputs": [],
   "source": [
    "import numpy as np"
   ]
  },
  {
   "cell_type": "code",
   "execution_count": 32,
   "id": "ed9446b5",
   "metadata": {},
   "outputs": [
    {
     "name": "stdout",
     "output_type": "stream",
     "text": [
      "Array: [75 51 85 14 55 44 92 37 19 79] \n",
      "Sum of array:\n"
     ]
    },
    {
     "data": {
      "text/plain": [
       "551"
      ]
     },
     "execution_count": 32,
     "metadata": {},
     "output_type": "execute_result"
    }
   ],
   "source": [
    "# 1\n",
    "def sums(arr):\n",
    "    total = 0\n",
    "    for i in arr:\n",
    "        total += i\n",
    "    return total\n",
    "arr=np.random.randint(100,size=10)\n",
    "print(\"Array:\",arr,\"\\nSum of array:\")\n",
    "sums(arr)"
   ]
  },
  {
   "cell_type": "code",
   "execution_count": 43,
   "id": "528be45c",
   "metadata": {},
   "outputs": [
    {
     "name": "stdout",
     "output_type": "stream",
     "text": [
      "[19 21 14 15  4 30 23 36 35 40] \n",
      "The largest element:\n"
     ]
    },
    {
     "data": {
      "text/plain": [
       "40"
      ]
     },
     "execution_count": 43,
     "metadata": {},
     "output_type": "execute_result"
    }
   ],
   "source": [
    "# 2\n",
    "def largest(arr):\n",
    "    large = arr[0]\n",
    "    n = len(arr)\n",
    "    for i in range(1,n):\n",
    "        if arr[i]>large:\n",
    "            large = arr[i]\n",
    "    return large\n",
    "\n",
    "a = np.random.randint(50,size=10)\n",
    "print(a,\"\\nThe largest element:\")\n",
    "\n",
    "largest(a)"
   ]
  },
  {
   "cell_type": "code",
   "execution_count": 5,
   "id": "4e4279bf",
   "metadata": {},
   "outputs": [],
   "source": [
    "# 3\n",
    "def rotate(arr,size):\n",
    "    num = len(arr)\n",
    "    print(arr)\n",
    "    arr[:]= arr[size:num]+arr[0:size]\n",
    "    \n",
    "    return f'Rotated array is{arr}'       "
   ]
  },
  {
   "cell_type": "code",
   "execution_count": 6,
   "id": "89e820eb",
   "metadata": {},
   "outputs": [
    {
     "name": "stdout",
     "output_type": "stream",
     "text": [
      "[1, 2, 3, 4, 5]\n"
     ]
    },
    {
     "data": {
      "text/plain": [
       "'Rotated array is[4, 5, 1, 2, 3]'"
      ]
     },
     "execution_count": 6,
     "metadata": {},
     "output_type": "execute_result"
    }
   ],
   "source": [
    "rotate([1,2,3,4,5],3)"
   ]
  },
  {
   "cell_type": "code",
   "execution_count": 7,
   "id": "fb3353a7",
   "metadata": {},
   "outputs": [],
   "source": [
    "# 4\n",
    "def split_arr(arr,k):\n",
    "    num = len(arr)\n",
    "    arr[:] = arr[k:num]+arr[0:k]\n",
    "    print(arr)"
   ]
  },
  {
   "cell_type": "code",
   "execution_count": 8,
   "id": "f7cc8e58",
   "metadata": {},
   "outputs": [
    {
     "name": "stdout",
     "output_type": "stream",
     "text": [
      "[31, 14, 58, 12, 26]\n"
     ]
    }
   ],
   "source": [
    "split_arr([12,26,31,14,58],2)"
   ]
  },
  {
   "cell_type": "code",
   "execution_count": 9,
   "id": "90175cc6",
   "metadata": {},
   "outputs": [],
   "source": [
    "# 5\n",
    "def monotonic_arr(arr):\n",
    "    inc = dec = True\n",
    "    for i in range(len(arr)-1):\n",
    "        if arr[i] > arr[i+1]:\n",
    "            inc = False\n",
    "        if arr[i] < arr[i+1]:\n",
    "            dec = False\n",
    "\n",
    "    return inc or dec  "
   ]
  },
  {
   "cell_type": "code",
   "execution_count": 10,
   "id": "6da9de23",
   "metadata": {},
   "outputs": [
    {
     "name": "stdout",
     "output_type": "stream",
     "text": [
      "True\n",
      "True\n",
      "True\n",
      "False\n"
     ]
    }
   ],
   "source": [
    "arr1 = [1, 2, 3, 4, 5]\n",
    "arr2 = [5, 4, 3, 2, 1] \n",
    "arr3 = [1, 2, 2, 3, 4]\n",
    "arr4 = [1, 2, 3, 4, 5, 4]\n",
    "\n",
    "print(monotonic_arr(arr1))\n",
    "print(monotonic_arr(arr2))\n",
    "print(monotonic_arr(arr3))\n",
    "print(monotonic_arr(arr4)) "
   ]
  },
  {
   "cell_type": "code",
   "execution_count": 11,
   "id": "437ce4ec",
   "metadata": {},
   "outputs": [
    {
     "data": {
      "text/plain": [
       "False"
      ]
     },
     "execution_count": 11,
     "metadata": {},
     "output_type": "execute_result"
    }
   ],
   "source": [
    "monotonic_arr((1,6,2))"
   ]
  },
  {
   "cell_type": "code",
   "execution_count": 12,
   "id": "31ee3be6",
   "metadata": {},
   "outputs": [
    {
     "data": {
      "text/plain": [
       "True"
      ]
     },
     "execution_count": 12,
     "metadata": {},
     "output_type": "execute_result"
    }
   ],
   "source": [
    "monotonic_arr([6,5,4,4])"
   ]
  },
  {
   "cell_type": "code",
   "execution_count": 13,
   "id": "bf4cd568",
   "metadata": {},
   "outputs": [
    {
     "data": {
      "text/plain": [
       "True"
      ]
     },
     "execution_count": 13,
     "metadata": {},
     "output_type": "execute_result"
    }
   ],
   "source": [
    "monotonic_arr([1,2,3,4])"
   ]
  },
  {
   "cell_type": "code",
   "execution_count": 14,
   "id": "8bb697c6",
   "metadata": {},
   "outputs": [
    {
     "data": {
      "text/plain": [
       "False"
      ]
     },
     "execution_count": 14,
     "metadata": {},
     "output_type": "execute_result"
    }
   ],
   "source": [
    "monotonic_arr([7,6,9])"
   ]
  }
 ],
 "metadata": {
  "kernelspec": {
   "display_name": "Python 3 (ipykernel)",
   "language": "python",
   "name": "python3"
  },
  "language_info": {
   "codemirror_mode": {
    "name": "ipython",
    "version": 3
   },
   "file_extension": ".py",
   "mimetype": "text/x-python",
   "name": "python",
   "nbconvert_exporter": "python",
   "pygments_lexer": "ipython3",
   "version": "3.9.16"
  }
 },
 "nbformat": 4,
 "nbformat_minor": 5
}
