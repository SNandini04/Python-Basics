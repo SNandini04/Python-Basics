{
 "cells": [
  {
   "cell_type": "raw",
   "id": "c9e6e593",
   "metadata": {},
   "source": [
    "1.\tWrite a Python Program to Add Two Matrices?\n",
    "2.\tWrite a Python Program to Multiply Two Matrices?\n",
    "3.\tWrite a Python Program to Transpose a Matrix?\n",
    "4.\tWrite a Python Program to Sort Words in Alphabetic Order?\n",
    "5.\tWrite a Python Program to Remove Punctuation From a String?"
   ]
  },
  {
   "cell_type": "code",
   "execution_count": 4,
   "id": "9841b222",
   "metadata": {},
   "outputs": [],
   "source": [
    "# 1\n",
    "def addtwo(k,l):\n",
    "    result = [[0,0],\n",
    "              [0,0]]\n",
    "    for i in range(len(k)):\n",
    "        for j in range(len(k[0])):\n",
    "            result[i][j] = k[i][j] + l[i][j]\n",
    "    for r in result:\n",
    "        print(r)"
   ]
  },
  {
   "cell_type": "code",
   "execution_count": 5,
   "id": "09698fad",
   "metadata": {},
   "outputs": [
    {
     "name": "stdout",
     "output_type": "stream",
     "text": [
      "[6, 8]\n",
      "[10, 12]\n"
     ]
    }
   ],
   "source": [
    "\n",
    "x = [[1,2],\n",
    "    [3,4]]\n",
    "y = [[5,6],\n",
    "    [7,8]]\n",
    "\n",
    "\n",
    "addtwo(x,y)"
   ]
  },
  {
   "cell_type": "code",
   "execution_count": 6,
   "id": "69428af9",
   "metadata": {},
   "outputs": [
    {
     "name": "stdout",
     "output_type": "stream",
     "text": [
      "[28, 24, 20]\n",
      "[61, 54, 44]\n",
      "[65, 50, 46]\n"
     ]
    }
   ],
   "source": [
    "#2\n",
    "\n",
    "x = [[1,2,1],\n",
    "    [3,4,2],\n",
    "    [2,4,3]]\n",
    "y = [[5,6,4],\n",
    "    [7,8,5],\n",
    "    [9,2,6]]\n",
    "r = [[0,0,0],\n",
    "    [0,0,0],\n",
    "    [0,0,0]]\n",
    "\n",
    "\n",
    "def multiply(x,y,r):\n",
    "    result = r\n",
    "    for i in range(len(x)):\n",
    "        for j in range(len(y[0])):\n",
    "            for k in range(len(y)):\n",
    "                result[i][j] += x[i][k] * y[k][j] \n",
    "    for r in result:\n",
    "        print(r)\n",
    "        \n",
    "multiply(x,y,r)"
   ]
  },
  {
   "cell_type": "code",
   "execution_count": 7,
   "id": "53e8f9ce",
   "metadata": {},
   "outputs": [
    {
     "name": "stdout",
     "output_type": "stream",
     "text": [
      "[1, 1, 1]\n",
      "[1, 1, 2]\n"
     ]
    }
   ],
   "source": [
    "#3\n",
    "y = [[1,1],\n",
    "    [1,1],\n",
    "    [1,2]]\n",
    "result = [[0,0,0],\n",
    "         [0,0,0]]\n",
    "def transpose(x,r):\n",
    "    for i in range(len(y)):\n",
    "        for j in range(len(y[0])):\n",
    "            result[j][i] = y[i][j]\n",
    "    for r in result:\n",
    "        print(r)\n",
    "        \n",
    "transpose(y,result)"
   ]
  },
  {
   "cell_type": "code",
   "execution_count": 8,
   "id": "aaa4cd8e",
   "metadata": {},
   "outputs": [
    {
     "name": "stdout",
     "output_type": "stream",
     "text": [
      "Enter a string:Write a Python Program to Sort Words in Alphabetic Order\n",
      "a\n",
      "alphabetic\n",
      "in\n",
      "order\n",
      "program\n",
      "python\n",
      "sort\n",
      "to\n",
      "words\n",
      "write\n"
     ]
    }
   ],
   "source": [
    "\n",
    "def sort_string(string):\n",
    "    words = [word.lower() for word in string.split()]\n",
    "    words.sort()\n",
    "\n",
    "    for word in words:\n",
    "        print(word)\n",
    "sentence = input('Enter a string:')       \n",
    "\n",
    "sort_string(sentence)\n"
   ]
  },
  {
   "cell_type": "code",
   "execution_count": 3,
   "id": "a0e481e5",
   "metadata": {},
   "outputs": [
    {
     "name": "stdout",
     "output_type": "stream",
     "text": [
      "Enter a string:Python; P)rog!ram.: fo}-r {Beg~inn;ers T-ut,o.r'ial\n",
      "Punctuations: !()-[]{};:'\"\\,<>./?@#$%^&*_~\n"
     ]
    },
    {
     "data": {
      "text/plain": [
       "'Python Program for Beginners Tutorial'"
      ]
     },
     "execution_count": 3,
     "metadata": {},
     "output_type": "execute_result"
    }
   ],
   "source": [
    "punctuations='''!()-[]{};:'\"\\,<>./?@#$%^&*_~'''\n",
    "def remove_punctuation(string):\n",
    "    new_str = ''\n",
    "    for x in string:\n",
    "        if x not in punctuations:\n",
    "            new_str += x\n",
    "            \n",
    "    return new_str\n",
    "string = input('Enter a string:')\n",
    "\n",
    "print('Punctuations:',punctuations)\n",
    "\n",
    "remove_punctuation(string)\n"
   ]
  }
 ],
 "metadata": {
  "kernelspec": {
   "display_name": "Python 3 (ipykernel)",
   "language": "python",
   "name": "python3"
  },
  "language_info": {
   "codemirror_mode": {
    "name": "ipython",
    "version": 3
   },
   "file_extension": ".py",
   "mimetype": "text/x-python",
   "name": "python",
   "nbconvert_exporter": "python",
   "pygments_lexer": "ipython3",
   "version": "3.9.16"
  }
 },
 "nbformat": 4,
 "nbformat_minor": 5
}
