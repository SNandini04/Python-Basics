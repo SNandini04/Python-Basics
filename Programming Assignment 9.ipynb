{
 "cells": [
  {
   "cell_type": "raw",
   "id": "e32f671e",
   "metadata": {},
   "source": [
    "1.\tWrite a Python program to check if the given number is a Disarium Number?\n",
    "2.\tWrite a Python program to print all disarium numbers between 1 to 100?\n",
    "3.\tWrite a Python program to check if the given number is Happy Number?\n",
    "4.\tWrite a Python program to print all happy numbers between 1 and 100?\n",
    "5.\tWrite a Python program to determine whether the given number is a Harshad Number?\n",
    "6.\tWrite a Python program to print all pronic numbers between 1 and 100?\n"
   ]
  },
  {
   "cell_type": "code",
   "execution_count": 47,
   "id": "22063e8b",
   "metadata": {
    "scrolled": true
   },
   "outputs": [
    {
     "data": {
      "text/plain": [
       "'132 is Not a Disarium Number'"
      ]
     },
     "execution_count": 47,
     "metadata": {},
     "output_type": "execute_result"
    }
   ],
   "source": [
    "#Q1 Disarium number:if sum of its digits powered with their respective positions is equal to the number itself.\n",
    "import math\n",
    "def disarium(n):\n",
    "    len_n = len(str(n))\n",
    "    sum1 = 0\n",
    "    x = n\n",
    "    while (x!=0): \n",
    "        num = x % 10\n",
    "        sum1 = (int)(sum1 + math.pow(num,len_n))\n",
    "        len_n = len_n - 1\n",
    "        x = x//10\n",
    "    if sum1 == n:\n",
    "        return f'{n} is a Disarium Number'\n",
    "    else:\n",
    "        return f'{n} is Not a Disarium Number'\n",
    "\n",
    "disarium(132)"
   ]
  },
  {
   "cell_type": "code",
   "execution_count": 48,
   "id": "c07e9818",
   "metadata": {},
   "outputs": [
    {
     "data": {
      "text/plain": [
       "'89 is a Disarium Number'"
      ]
     },
     "execution_count": 48,
     "metadata": {},
     "output_type": "execute_result"
    }
   ],
   "source": [
    "disarium(89)"
   ]
  },
  {
   "cell_type": "code",
   "execution_count": 44,
   "id": "f5a40148",
   "metadata": {},
   "outputs": [
    {
     "name": "stdout",
     "output_type": "stream",
     "text": [
      "enter a smaller number : 1\n",
      "enter larger number : 100\n",
      "Disarium numbers from 1 to 100 are-\n",
      "1 2 3 4 5 6 7 8 9 89 "
     ]
    }
   ],
   "source": [
    "#Q2 if the sum of the individuals digits of a number raised to the power of its position equals the number.\n",
    "def check_disarium_numbers(n):\n",
    "    num = n\n",
    "    digit_position = 0\n",
    "    sum_of_digit = 0\n",
    "    digit = 0\n",
    "    while (num!=0):\n",
    "        digit_position = digit_position + 1\n",
    "        num = num//10\n",
    "    while (n > 0):\n",
    "        digit=n%10\n",
    "        sum_of_digit =sum_of_digit + (digit**digit_position)\n",
    "        n=n//10\n",
    "        digit_position=digit_position - 1\n",
    "    return sum_of_digit\n",
    "start = int(input(\"enter a smaller number : \"))\n",
    "end = int(input(\"enter larger number : \"))\n",
    "print(f\"Disarium numbers from {start} to {end} are-\")\n",
    "for i in range(start,end+1):\n",
    "    if check_disarium_numbers(i) == i:\n",
    "        print(i,end=\" \")        "
   ]
  },
  {
   "cell_type": "code",
   "execution_count": 38,
   "id": "437d4582",
   "metadata": {},
   "outputs": [
    {
     "name": "stdout",
     "output_type": "stream",
     "text": [
      "Enter a number: 7\n"
     ]
    },
    {
     "data": {
      "text/plain": [
       "'True,7 is a happy number'"
      ]
     },
     "execution_count": 38,
     "metadata": {},
     "output_type": "execute_result"
    }
   ],
   "source": [
    "#Q3 Happy Number: positive integer replace the number by the sum of the squares of its digit,repeat until the number equals 1.\n",
    "def happy_number():\n",
    "    num = int(input('Enter a number: '))\n",
    "    num_duplicate = num\n",
    "    num_used = set()\n",
    "    while num!=1:\n",
    "        sum_of_square=0\n",
    "        while num>0:\n",
    "            digit=num%10\n",
    "            sum_of_square=sum_of_square+digit**2\n",
    "            num//=10\n",
    "        if sum_of_square in num_used:\n",
    "            return f'{False}!{num_duplicate} is not a happy number'\n",
    "        num_used.add(sum_of_square)\n",
    "        num = sum_of_square\n",
    "    return f'{True},{num_duplicate} is a happy number'  \n",
    "happy_number()"
   ]
  },
  {
   "cell_type": "code",
   "execution_count": 39,
   "id": "2daa99f4",
   "metadata": {},
   "outputs": [
    {
     "name": "stdout",
     "output_type": "stream",
     "text": [
      "Enter a number: 2\n"
     ]
    },
    {
     "data": {
      "text/plain": [
       "'False!2 is not a happy number'"
      ]
     },
     "execution_count": 39,
     "metadata": {},
     "output_type": "execute_result"
    }
   ],
   "source": [
    "happy_number()"
   ]
  },
  {
   "cell_type": "code",
   "execution_count": 1,
   "id": "7df417b6",
   "metadata": {},
   "outputs": [
    {
     "name": "stdout",
     "output_type": "stream",
     "text": [
      "List of happy numbers between 1 to 100:\n",
      "[1, 7, 10, 13, 19, 23, 28, 31, 32, 44, 49, 68, 70, 79, 82, 86, 91, 94, 97, 100]\n"
     ]
    }
   ],
   "source": [
    "#Q4 Happy number between 1 to 100\n",
    "def happy_num(num):\n",
    "    sum_of_square = 0\n",
    "    digit = 0\n",
    "    while (num>0):\n",
    "        digit = num%10\n",
    "        sum_of_square = sum_of_square+digit*digit\n",
    "        num=num//10\n",
    "    return sum_of_square\n",
    "print(\"List of happy numbers between 1 to 100:\")\n",
    "happy_num_list = []\n",
    "for i in range(1,101):\n",
    "    result = i\n",
    "    while (result!= 1 and result!=4):\n",
    "        result = happy_num(result)\n",
    "    if result == 1:\n",
    "        happy_num_list.append(i)\n",
    "print(happy_num_list)"
   ]
  },
  {
   "cell_type": "code",
   "execution_count": 23,
   "id": "b61caab1",
   "metadata": {},
   "outputs": [
    {
     "name": "stdout",
     "output_type": "stream",
     "text": [
      "10 is a harshad number\n",
      "35 is not a harshad number\n"
     ]
    }
   ],
   "source": [
    "#Q5 Harshad Number: A positive integer which is divisible by the sum of its digits\n",
    "def harshad_number(n=int):\n",
    "    sum_of_digit = []\n",
    "    number = n\n",
    "    sum_num=0\n",
    "    while n>0:\n",
    "        digit=n%10\n",
    "        sum_of_digit.append(digit)\n",
    "        n = n//10\n",
    "    sum_num=sum(sum_of_digit)\n",
    "    if (number%sum_num==0):\n",
    "        print(f'{number} is a harshad number')\n",
    "    else:\n",
    "        print(f'{number} is not a harshad number')\n",
    "\n",
    "harshad_number(10)\n",
    "harshad_number(35)"
   ]
  },
  {
   "cell_type": "code",
   "execution_count": 29,
   "id": "50bdbcc6",
   "metadata": {},
   "outputs": [
    {
     "name": "stdout",
     "output_type": "stream",
     "text": [
      "12 is a pronic number\n",
      "272 is a pronic number\n",
      "310 is not a pronic number\n"
     ]
    }
   ],
   "source": [
    "#Q6 Pronic Number: It is the product of two consecutive integers of the form:n(n+1)\n",
    "\n",
    "def is_pronic_number(n=int):\n",
    "    num = n\n",
    "    for i in range(n):\n",
    "        if i*(i+1) == n:\n",
    "            num=1\n",
    "            break\n",
    "    if num==1:\n",
    "        print(f'{n} is a pronic number')\n",
    "    else:\n",
    "        print(f'{n} is not a pronic number')\n",
    "\n",
    "is_pronic_number(12)\n",
    "is_pronic_number(272)\n",
    "is_pronic_number(310)"
   ]
  }
 ],
 "metadata": {
  "kernelspec": {
   "display_name": "Python 3 (ipykernel)",
   "language": "python",
   "name": "python3"
  },
  "language_info": {
   "codemirror_mode": {
    "name": "ipython",
    "version": 3
   },
   "file_extension": ".py",
   "mimetype": "text/x-python",
   "name": "python",
   "nbconvert_exporter": "python",
   "pygments_lexer": "ipython3",
   "version": "3.9.16"
  }
 },
 "nbformat": 4,
 "nbformat_minor": 5
}
